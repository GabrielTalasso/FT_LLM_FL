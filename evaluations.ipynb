{
 "cells": [
  {
   "cell_type": "code",
   "execution_count": 2,
   "metadata": {},
   "outputs": [
    {
     "name": "stderr",
     "output_type": "stream",
     "text": [
      "/home/gabriel.talasso/FT_LLM_FL/.venv/lib/python3.10/site-packages/tqdm/auto.py:21: TqdmWarning: IProgress not found. Please update jupyter and ipywidgets. See https://ipywidgets.readthedocs.io/en/stable/user_install.html\n",
      "  from .autonotebook import tqdm as notebook_tqdm\n"
     ]
    },
    {
     "name": "stdout",
     "output_type": "stream",
     "text": [
      "[2024-09-18 10:48:13,183] [INFO] [real_accelerator.py:191:get_accelerator] Setting ds_accelerator to cuda (auto detect)\n"
     ]
    }
   ],
   "source": [
    "import torch\n",
    "from transformers import AutoModelForCausalLM, AutoTokenizer, pipeline,  GenerationConfig\n",
    "from accelerate import Accelerator\n"
   ]
  },
  {
   "cell_type": "code",
   "execution_count": 3,
   "metadata": {},
   "outputs": [],
   "source": [
    "import numpy as np\n",
    "import os\n",
    "import sys\n",
    "import os\n",
    "from tqdm import tqdm\n",
    "import numpy as np\n",
    "import torch\n",
    "sys.path.append(\".\")\n",
    "from transformers import AutoModelForCausalLM, AutoTokenizer, BitsAndBytesConfig\n",
    "from peft import PeftModel\n",
    "from datasets import load_dataset\n",
    "from accelerate import Accelerator\n",
    "from torch.utils.data import DataLoader\n",
    "from utils.template import TEMPLATE_DICT\n",
    "\n",
    "#configs\n",
    "os.environ[\"CUDA_VISIBLE_DEVICES\"] = \"1\"\n",
    "template = TEMPLATE_DICT['alpaca'][0]\n",
    "MODEL_NAME = 'TinyLlama/TinyLlama_v1.1'\n",
    "DATASET_NAME = 'dominguesm/alpaca-data-pt-br'\n",
    "PATH = 'output/alpaca-data-pt-br_30000_fedavg_c60s2_i10_b16a1_l512_r8a16_20240910094609'\n",
    "DEVICE = 'cuda'\n",
    "NUM_CHECKPOINTS = 20\n",
    "EVALSET_LEN = 50"
   ]
  },
  {
   "cell_type": "code",
   "execution_count": 12,
   "metadata": {},
   "outputs": [
    {
     "data": {
      "text/plain": [
       "[2.141699028015137,\n",
       " 2.11790246963501,\n",
       " 1.9286767959594726,\n",
       " 2.0705927848815917,\n",
       " 2.085124683380127,\n",
       " 1.9217575073242186,\n",
       " 1.7471919059753418,\n",
       " 2.0156527519226075,\n",
       " 2.047588062286377,\n",
       " 1.9321763992309569,\n",
       " 1.8154597282409668,\n",
       " 1.7696736335754393,\n",
       " 1.8569631576538086,\n",
       " 1.9623833656311036,\n",
       " 1.8220419883728027,\n",
       " 1.9090030670166016,\n",
       " 1.9089950561523437,\n",
       " 1.7163000106811523,\n",
       " 1.8426593780517577,\n",
       " 1.7481095314025878,\n",
       " 1.954061508178711,\n",
       " 1.8445809364318848,\n",
       " 1.915722370147705,\n",
       " 1.8607295989990233,\n",
       " 1.8223953247070312,\n",
       " 1.7795141220092774,\n",
       " 1.8638540267944337,\n",
       " 1.8543711662292481,\n",
       " 1.802993392944336,\n",
       " 1.7061792373657227,\n",
       " 1.7689103126525878,\n",
       " 1.74131441116333,\n",
       " 1.8882525444030762,\n",
       " 1.9013531684875489,\n",
       " 1.886690616607666,\n",
       " 1.8400861740112306,\n",
       " 1.9172791481018066,\n",
       " 1.812045955657959,\n",
       " 1.723374366760254,\n",
       " 1.9227869033813476,\n",
       " 1.7191823959350585,\n",
       " 1.9405763626098633,\n",
       " 1.6877719879150392,\n",
       " 1.8468783378601075,\n",
       " 1.7033968925476075,\n",
       " 1.7768882751464843,\n",
       " 1.817511749267578,\n",
       " 1.8919488906860353,\n",
       " 1.833607292175293,\n",
       " 1.8411290740966795,\n",
       " 1.8597662925720213,\n",
       " 1.8382622718811035,\n",
       " 1.8944508552551271,\n",
       " 1.7746270656585694,\n",
       " 1.782171440124512,\n",
       " 1.891816806793213,\n",
       " 1.7441689491271974,\n",
       " 1.8380898475646972,\n",
       " 1.9002446174621581,\n",
       " 1.8394701004028322,\n",
       " 1.8436677932739258,\n",
       " 1.8125292778015136,\n",
       " 1.7938682556152343,\n",
       " 1.7401844024658204,\n",
       " 1.718323516845703,\n",
       " 1.7871993064880372,\n",
       " 1.777437114715576,\n",
       " 1.7723581314086916,\n",
       " 1.7696564674377442,\n",
       " 1.6409704208374025,\n",
       " 1.7290635108947754,\n",
       " 1.8815454483032226,\n",
       " 1.8347973823547363,\n",
       " 1.8943819999694824,\n",
       " 1.7166110992431642,\n",
       " 1.7183477401733398,\n",
       " 1.9261635780334472,\n",
       " 1.9742042541503906,\n",
       " 1.861223316192627,\n",
       " 1.8081528663635253,\n",
       " 1.8097319602966309,\n",
       " 1.739629554748535,\n",
       " 1.777498722076416,\n",
       " 1.7118271827697753,\n",
       " 1.866446781158447,\n",
       " 1.8459753036499023,\n",
       " 1.6419612884521484,\n",
       " 1.9088749885559082,\n",
       " 1.7868996620178224,\n",
       " 1.8190496444702147,\n",
       " 1.8402419090270996,\n",
       " 1.6560503482818603,\n",
       " 1.7071868896484375,\n",
       " 1.765993595123291,\n",
       " 1.7983963012695312,\n",
       " 1.6369819641113281,\n",
       " 1.9918251037597656,\n",
       " 1.816565990447998,\n",
       " 1.8431488990783693,\n",
       " 1.7068303108215332,\n",
       " 1.7583638191223145,\n",
       " 1.8144778251647948,\n",
       " 1.9453303337097168,\n",
       " 1.7800952911376955,\n",
       " 1.7771812438964845,\n",
       " 1.8855892181396485,\n",
       " 1.7324556350708007,\n",
       " 1.7979154586791992,\n",
       " 1.812019634246826,\n",
       " 1.9262442588806152,\n",
       " 1.7945844650268556,\n",
       " 1.9487874031066894,\n",
       " 1.7365039825439452,\n",
       " 1.7618276596069338,\n",
       " 1.7883362770080566,\n",
       " 1.8978955268859863,\n",
       " 1.625421142578125,\n",
       " 1.9453683853149415,\n",
       " 1.89955472946167,\n",
       " 1.893270206451416,\n",
       " 1.8587068557739257,\n",
       " 1.7651416778564455,\n",
       " 1.7607921600341796,\n",
       " 1.793803405761719,\n",
       " 1.7768338203430174,\n",
       " 1.8033757209777832,\n",
       " 1.7183292388916016,\n",
       " 1.7611677169799804,\n",
       " 1.818006992340088,\n",
       " 1.6798842430114744,\n",
       " 1.7189407348632812,\n",
       " 2.000969982147217,\n",
       " 1.8156164169311522,\n",
       " 1.8686226844787597,\n",
       " 1.7098793983459473,\n",
       " 1.8264663696289063,\n",
       " 1.6855077743530273,\n",
       " 1.8007548332214354,\n",
       " 1.8782329559326172,\n",
       " 1.689526653289795,\n",
       " 1.681810665130615,\n",
       " 1.7716679573059082,\n",
       " 1.7591322898864745,\n",
       " 1.8211240768432617,\n",
       " 1.7262407302856446,\n",
       " 1.6207773208618166,\n",
       " 1.7879323959350586,\n",
       " 1.739110279083252,\n",
       " 1.8271109580993652,\n",
       " 1.7383716583251954,\n",
       " 1.9109397888183595,\n",
       " 1.7726964950561523,\n",
       " 1.777212429046631,\n",
       " 1.7369054794311523,\n",
       " 1.7838963508605956,\n",
       " 1.6706248283386231,\n",
       " 1.701701545715332,\n",
       " 1.6234665393829344,\n",
       " 1.8300389289855956,\n",
       " 1.8013224601745605,\n",
       " 1.6485093116760254,\n",
       " 1.790761947631836,\n",
       " 1.7943955421447755,\n",
       " 1.6676854133605956,\n",
       " 1.76300048828125,\n",
       " 1.7015236854553222,\n",
       " 1.7698731422424316,\n",
       " 1.7672131538391112,\n",
       " 1.687766933441162,\n",
       " 1.863771343231201,\n",
       " 1.8433810234069825,\n",
       " 1.6367502212524414,\n",
       " 1.9327268600463867,\n",
       " 1.8361347198486329,\n",
       " 1.6794745445251464,\n",
       " 1.8584548950195314,\n",
       " 1.7310842514038085,\n",
       " 1.8285231590270996,\n",
       " 1.6131156921386718,\n",
       " 1.7812644004821778,\n",
       " 1.834370994567871,\n",
       " 1.675012969970703,\n",
       " 1.8589605331420898,\n",
       " 1.698554801940918,\n",
       " 1.7859827041625977,\n",
       " 1.8557876586914062,\n",
       " 1.841097354888916,\n",
       " 1.8710129737854002,\n",
       " 1.9083995819091797,\n",
       " 1.8361122131347656,\n",
       " 1.8598372459411623,\n",
       " 1.681732749938965,\n",
       " 1.9472005844116211,\n",
       " 1.6927167892456054,\n",
       " 1.6670676231384278,\n",
       " 1.6417251586914063,\n",
       " 1.7102161407470704,\n",
       " 1.709725570678711,\n",
       " 1.6933589935302735,\n",
       " 1.9222021102905273]"
      ]
     },
     "execution_count": 12,
     "metadata": {},
     "output_type": "execute_result"
    }
   ],
   "source": [
    "# Load the data\n",
    "#path = 'output/alpaca-data-pt-br_10000_fedavg_c20s2_i10_b16a1_l512_r8a16_20240909085602/training_loss.npy'\n",
    "path = 'output/aya_dataset_200000_fedavg_c20s2_i10_b16a1_l512_r8a16_20240911152426/training_loss.npy'\n",
    "#path = 'output/aya_dataset_400000_clustered_c20s2_i100_b16a1_l512_r8a16_20240913122148/training_loss.npy'\n",
    "data = np.load(path, allow_pickle=True)\n",
    "\n",
    "losses = []\n",
    "data = data.T\n",
    "for r in range(len(data)):\n",
    "    loss = np.where(data[r] != -1, data[r], np.nan)\n",
    "    loss = loss[~np.isnan(loss)]\n",
    "    loss = loss.mean()\n",
    "    losses.append(loss)\n",
    "\n",
    "losses"
   ]
  },
  {
   "cell_type": "code",
   "execution_count": 13,
   "metadata": {},
   "outputs": [
    {
     "data": {
      "text/plain": [
       "[2.142123889923096,\n",
       " 2.118937683105469,\n",
       " 1.928080940246582,\n",
       " 2.071475696563721,\n",
       " 2.0876364707946777,\n",
       " 1.9240873336791993,\n",
       " 1.7489052772521974,\n",
       " 2.0179596900939942,\n",
       " 2.049280071258545,\n",
       " 1.93254976272583,\n",
       " 1.8159246444702148,\n",
       " 1.770007610321045,\n",
       " 1.8588059425354002,\n",
       " 1.9645590782165527,\n",
       " 1.8233729362487794,\n",
       " 1.9091639518737793,\n",
       " 1.9082418441772462,\n",
       " 1.7166218757629395,\n",
       " 1.8446671485900878,\n",
       " 1.7482483863830565,\n",
       " 1.955533218383789,\n",
       " 1.8448473930358886,\n",
       " 1.9160567283630372,\n",
       " 1.8622000694274903,\n",
       " 1.8233282089233398,\n",
       " 1.7799637794494627,\n",
       " 1.864396858215332,\n",
       " 1.855634593963623,\n",
       " 1.8033231735229491,\n",
       " 1.7062332153320312,\n",
       " 1.7700160980224608,\n",
       " 1.7412229537963868,\n",
       " 1.8884472846984863,\n",
       " 1.901344394683838,\n",
       " 1.8864828109741212,\n",
       " 1.8404247283935546,\n",
       " 1.9175480842590331,\n",
       " 1.8119927406311036,\n",
       " 1.723681926727295,\n",
       " 1.9239808082580567,\n",
       " 1.719415473937988,\n",
       " 1.9402151107788086,\n",
       " 1.6873823165893556,\n",
       " 1.8477532386779787,\n",
       " 1.7029958724975587,\n",
       " 1.7772493362426758,\n",
       " 1.8185949325561523,\n",
       " 1.891159439086914,\n",
       " 1.8337576866149903,\n",
       " 1.8408693885803225,\n",
       " 1.8600733757019043,\n",
       " 1.831471061706543,\n",
       " 1.8851644515991213,\n",
       " 1.7659042358398436,\n",
       " 1.7758201599121093,\n",
       " 1.885525608062744,\n",
       " 1.7421583175659179,\n",
       " 1.8258164405822754,\n",
       " 1.8907572746276855,\n",
       " 1.8345231056213378,\n",
       " 1.8292160034179688,\n",
       " 1.8037620544433595,\n",
       " 1.7847220420837402,\n",
       " 1.7413433074951172,\n",
       " 1.7204729080200196,\n",
       " 1.773750114440918,\n",
       " 1.7620721817016602,\n",
       " 1.7735937118530274,\n",
       " 1.7707898139953615,\n",
       " 1.6426919937133788,\n",
       " 1.7179744243621826,\n",
       " 1.866683578491211,\n",
       " 1.8290218353271483,\n",
       " 1.8769227981567385,\n",
       " 1.7171091079711913,\n",
       " 1.7202001571655274,\n",
       " 1.9097640991210936,\n",
       " 1.932053565979004,\n",
       " 1.853847312927246,\n",
       " 1.8029365539550781,\n",
       " 1.7943090438842773,\n",
       " 1.7470770835876466,\n",
       " 1.7725890159606932,\n",
       " 1.7211589813232422,\n",
       " 1.848188877105713,\n",
       " 1.841682243347168,\n",
       " 1.6418736934661866,\n",
       " 1.8889657020568849,\n",
       " 1.7861900329589844,\n",
       " 1.7989330291748047,\n",
       " 1.8407033920288085,\n",
       " 1.6607506752014158,\n",
       " 1.7088817596435546,\n",
       " 1.7699883460998536,\n",
       " 1.789520835876465,\n",
       " 1.639673614501953,\n",
       " 1.9456122398376465,\n",
       " 1.8116181373596192,\n",
       " 1.8240872383117677,\n",
       " 1.711468982696533,\n",
       " 1.75492525100708,\n",
       " 1.811119842529297,\n",
       " 1.915701675415039,\n",
       " 1.7820992469787598,\n",
       " 1.7785974502563477,\n",
       " 1.8642553329467773,\n",
       " 1.7397252082824708,\n",
       " 1.7935129165649415,\n",
       " 1.8116313934326171,\n",
       " 1.8956997871398924,\n",
       " 1.7946134567260743,\n",
       " 1.9277837753295899,\n",
       " 1.7394548416137696,\n",
       " 1.7416900634765624,\n",
       " 1.7894230842590333,\n",
       " 1.867859172821045,\n",
       " 1.6271615028381348,\n",
       " 1.9351658821105957,\n",
       " 1.8653006553649902,\n",
       " 1.862109375,\n",
       " 1.8595052719116212,\n",
       " 1.7694095611572265,\n",
       " 1.7655553817749023,\n",
       " 1.7704152107238769,\n",
       " 1.7539636611938476,\n",
       " 1.8020417213439943,\n",
       " 1.7280017852783205,\n",
       " 1.7691086769104003,\n",
       " 1.8184993743896485,\n",
       " 1.6880563735961913,\n",
       " 1.724376392364502,\n",
       " 1.952936553955078,\n",
       " 1.8143766403198243,\n",
       " 1.8473020553588868,\n",
       " 1.7192543983459472,\n",
       " 1.805653953552246,\n",
       " 1.6916190147399903,\n",
       " 1.8003477096557616,\n",
       " 1.8790613174438477,\n",
       " 1.6952678680419924,\n",
       " 1.6888062477111816,\n",
       " 1.7806963920593262,\n",
       " 1.770496940612793,\n",
       " 1.8198341369628905,\n",
       " 1.733881378173828,\n",
       " 1.6267099380493164,\n",
       " 1.7847670555114745,\n",
       " 1.735649871826172,\n",
       " 1.8352205276489257,\n",
       " 1.7466038703918456,\n",
       " 1.898538589477539,\n",
       " 1.7737159729003906,\n",
       " 1.7774429321289062,\n",
       " 1.748534393310547,\n",
       " 1.7869129180908203,\n",
       " 1.6786494255065918,\n",
       " 1.7106887817382812,\n",
       " 1.6322409152984618,\n",
       " 1.8301749229431152,\n",
       " 1.8034257888793945,\n",
       " 1.6554344177246094,\n",
       " 1.7939937591552735,\n",
       " 1.7959370613098145,\n",
       " 1.6756897926330567,\n",
       " 1.7380836486816407,\n",
       " 1.7133403778076173,\n",
       " 1.7723678588867187,\n",
       " 1.76724853515625,\n",
       " 1.6985099792480467,\n",
       " 1.8341275215148927,\n",
       " 1.8206053733825684,\n",
       " 1.646695899963379,\n",
       " 1.9020123481750488,\n",
       " 1.8200750350952148,\n",
       " 1.6919530868530273,\n",
       " 1.8593019485473632,\n",
       " 1.741170120239258,\n",
       " 1.8331022262573242,\n",
       " 1.6225307941436768,\n",
       " 1.7853795051574708,\n",
       " 1.8336488723754882,\n",
       " 1.6849958419799806,\n",
       " 1.8361351013183596,\n",
       " 1.7112030982971191,\n",
       " 1.7540622711181642,\n",
       " 1.8562759399414062,\n",
       " 1.8246578216552733,\n",
       " 1.847724437713623,\n",
       " 1.869447612762451,\n",
       " 1.811443042755127,\n",
       " 1.8597660064697266,\n",
       " 1.6870000839233399,\n",
       " 1.8847886085510255,\n",
       " 1.700532817840576,\n",
       " 1.6762903690338136,\n",
       " 1.6504959106445312,\n",
       " 1.7173469543457032,\n",
       " 1.7185767173767088,\n",
       " 1.7043209075927734,\n",
       " 1.8976116180419922]"
      ]
     },
     "execution_count": 13,
     "metadata": {},
     "output_type": "execute_result"
    }
   ],
   "source": [
    "path = 'output/aya_dataset_400000_clustered_c20s2_i10_b16a1_l512_r8a16_20240913072636/training_loss.npy'\n",
    "#path = 'output/aya_dataset_400000_fedavg_c20s2_i100_b16a1_l512_r8a16_20240914133401/training_loss.npy'\n",
    "data = np.load(path, allow_pickle=True)\n",
    "\n",
    "losses2 = []\n",
    "data = data.T\n",
    "for r in range(len(data)):\n",
    "    loss = np.where(data[r] != -1, data[r], np.nan)\n",
    "    loss = loss[~np.isnan(loss)]\n",
    "    loss = loss.mean()\n",
    "    losses2.append(loss)\n",
    "\n",
    "losses2"
   ]
  },
  {
   "cell_type": "code",
   "execution_count": 14,
   "metadata": {},
   "outputs": [
    {
     "data": {
      "text/plain": [
       "[2.1420710563659666,\n",
       " 2.1191991806030277,\n",
       " 1.9286067008972168,\n",
       " 2.0707054138183594,\n",
       " 2.08528413772583,\n",
       " 1.9228836059570313,\n",
       " 1.748762321472168,\n",
       " 2.0165676116943363,\n",
       " 2.0487854957580565,\n",
       " 1.933006191253662,\n",
       " 1.815873146057129,\n",
       " 1.7708498954772949,\n",
       " 1.8588470458984374,\n",
       " 1.9637871742248536,\n",
       " 1.823218822479248,\n",
       " 1.9088626861572267,\n",
       " 1.908602523803711,\n",
       " 1.7175443649291993,\n",
       " 1.843171787261963,\n",
       " 1.747867774963379,\n",
       " 1.9548646926879885,\n",
       " 1.8454198837280273,\n",
       " 1.9164591789245606,\n",
       " 1.8604652404785156,\n",
       " 1.8231578826904298,\n",
       " 1.7804369926452637,\n",
       " 1.8648259162902834,\n",
       " 1.855867290496826,\n",
       " 1.802652931213379,\n",
       " 1.7057412147521973,\n",
       " 1.7697352409362792,\n",
       " 1.7414386749267576,\n",
       " 1.8885140419006348,\n",
       " 1.9017367362976074,\n",
       " 1.8864081382751463,\n",
       " 1.83992338180542,\n",
       " 1.9172147750854491,\n",
       " 1.8121890068054198,\n",
       " 1.7240425109863282,\n",
       " 1.9238041877746581,\n",
       " 1.720083999633789,\n",
       " 1.9409804344177246,\n",
       " 1.6867362022399903,\n",
       " 1.8471354484558105,\n",
       " 1.7042463302612305,\n",
       " 1.7779376029968263,\n",
       " 1.8159188270568847,\n",
       " 1.8910337448120118,\n",
       " 1.8345452308654786,\n",
       " 1.840954303741455,\n",
       " 1.8609426498413086,\n",
       " 1.832411003112793,\n",
       " 1.884350299835205,\n",
       " 1.7643221378326417,\n",
       " 1.7749432563781737,\n",
       " 1.880922031402588,\n",
       " 1.738205146789551,\n",
       " 1.8228193283081056,\n",
       " 1.8822834014892578,\n",
       " 1.8272999763488769,\n",
       " 1.8245115280151367,\n",
       " 1.8013519287109374,\n",
       " 1.775263500213623,\n",
       " 1.7361145973205567,\n",
       " 1.7169384002685546,\n",
       " 1.7563582420349122,\n",
       " 1.7280802726745605,\n",
       " 1.763908100128174,\n",
       " 1.7657607078552247,\n",
       " 1.6335145950317385,\n",
       " 1.669385242462158,\n",
       " 1.8551074028015138,\n",
       " 1.8137498855590821,\n",
       " 1.8501606941223145,\n",
       " 1.7059161186218261,\n",
       " 1.7116751670837402,\n",
       " 1.8901437759399413,\n",
       " 1.882568645477295,\n",
       " 1.8371086120605469,\n",
       " 1.794042205810547,\n",
       " 1.7538925170898438,\n",
       " 1.7344772338867187,\n",
       " 1.7629061698913575,\n",
       " 1.7105278015136718,\n",
       " 1.7885889053344726,\n",
       " 1.8202651023864744,\n",
       " 1.6295834541320802,\n",
       " 1.8659298896789551,\n",
       " 1.7653062820434569,\n",
       " 1.7441087722778321,\n",
       " 1.8162778854370116,\n",
       " 1.644171905517578,\n",
       " 1.6956252098083495,\n",
       " 1.7576756477355957,\n",
       " 1.7720183372497558,\n",
       " 1.6242371082305909,\n",
       " 1.9022360801696778,\n",
       " 1.7900972366333008,\n",
       " 1.786946964263916,\n",
       " 1.698962688446045,\n",
       " 1.7376681327819825,\n",
       " 1.7810991287231446,\n",
       " 1.8623137474060059,\n",
       " 1.7543182373046875,\n",
       " 1.7450041770935059,\n",
       " 1.8009621620178224,\n",
       " 1.7240495681762695,\n",
       " 1.774472141265869,\n",
       " 1.7860682487487791,\n",
       " 1.830467987060547,\n",
       " 1.7789465904235842,\n",
       " 1.876255989074707,\n",
       " 1.724401664733887,\n",
       " 1.6644492149353027,\n",
       " 1.764970588684082,\n",
       " 1.7831270217895507,\n",
       " 1.6097349166870116,\n",
       " 1.910023021697998,\n",
       " 1.7866859436035156,\n",
       " 1.7728821754455568,\n",
       " 1.8369297981262207,\n",
       " 1.730944538116455,\n",
       " 1.7281363487243653,\n",
       " 1.6868334770202638,\n",
       " 1.6636255264282227,\n",
       " 1.7796607971191407,\n",
       " 1.7026706695556642,\n",
       " 1.748084831237793,\n",
       " 1.796376609802246,\n",
       " 1.664368438720703,\n",
       " 1.7075372695922852,\n",
       " 1.8691576004028319,\n",
       " 1.7935284614562987,\n",
       " 1.7812725067138673,\n",
       " 1.7014044761657714,\n",
       " 1.7306049346923826,\n",
       " 1.6708365440368653,\n",
       " 1.775344657897949,\n",
       " 1.8453326225280762,\n",
       " 1.6753207206726075,\n",
       " 1.6674982070922852,\n",
       " 1.7582777976989745,\n",
       " 1.7465911865234376,\n",
       " 1.7928059577941893,\n",
       " 1.7151867866516113,\n",
       " 1.6078723430633546,\n",
       " 1.7604222297668457,\n",
       " 1.7064895629882812,\n",
       " 1.8159722328186034,\n",
       " 1.7209821701049806,\n",
       " 1.8578723907470702,\n",
       " 1.737386131286621,\n",
       " 1.7538998603820801,\n",
       " 1.7247808456420897,\n",
       " 1.7493385314941405,\n",
       " 1.652492141723633,\n",
       " 1.6968767166137695,\n",
       " 1.613571357727051,\n",
       " 1.8017989158630372,\n",
       " 1.7790985107421875,\n",
       " 1.6307838916778565,\n",
       " 1.7529733657836915,\n",
       " 1.7546849250793457,\n",
       " 1.6570322513580322,\n",
       " 1.6453250885009765,\n",
       " 1.688390064239502,\n",
       " 1.7471717834472655,\n",
       " 1.7380955696105957,\n",
       " 1.6718811988830566,\n",
       " 1.7395730018615723,\n",
       " 1.7378713607788085,\n",
       " 1.6307554721832274,\n",
       " 1.80450439453125,\n",
       " 1.7763967514038086,\n",
       " 1.6706826210021972,\n",
       " 1.8348084449768067,\n",
       " 1.7169795989990235,\n",
       " 1.791741943359375,\n",
       " 1.5985581874847412,\n",
       " 1.7393417358398438,\n",
       " 1.8048020362854005,\n",
       " 1.6562957763671875,\n",
       " 1.7569799423217773,\n",
       " 1.6835611820220948,\n",
       " 1.656046485900879,\n",
       " 1.8272314071655273,\n",
       " 1.7802700042724608,\n",
       " 1.767719841003418,\n",
       " 1.7639897346496582,\n",
       " 1.712213134765625,\n",
       " 1.8286735534667968,\n",
       " 1.6659815788269041,\n",
       " 1.7340842247009278,\n",
       " 1.6818907737731932,\n",
       " 1.6507851600646972,\n",
       " 1.6289779663085937,\n",
       " 1.6955583572387696,\n",
       " 1.6955470085144042,\n",
       " 1.6764757156372072,\n",
       " 1.8187129974365233]"
      ]
     },
     "execution_count": 14,
     "metadata": {},
     "output_type": "execute_result"
    }
   ],
   "source": [
    "path = 'output/aya_dataset_400000_clustered_c20s2_i10_b16a1_l512_r8a16_20240917170032/training_loss.npy'\n",
    "data = np.load(path, allow_pickle=True)\n",
    "\n",
    "losses3 = []\n",
    "data = data.T\n",
    "for r in range(len(data)):\n",
    "    loss = np.where(data[r] != -1, data[r], np.nan)\n",
    "    loss = loss[~np.isnan(loss)]\n",
    "    loss = loss.mean()\n",
    "    losses3.append(loss)\n",
    "\n",
    "losses3"
   ]
  },
  {
   "cell_type": "code",
   "execution_count": 15,
   "metadata": {},
   "outputs": [
    {
     "data": {
      "text/plain": [
       "<Axes: ylabel='None'>"
      ]
     },
     "execution_count": 15,
     "metadata": {},
     "output_type": "execute_result"
    },
    {
     "data": {
      "image/png": "[encoded data removed]",
      "text/plain": [
       "<Figure size 640x480 with 1 Axes>"
      ]
     },
     "metadata": {},
     "output_type": "display_data"
    }
   ],
   "source": [
    "import seaborn as sns\n",
    "import pandas as pd\n",
    "\n",
    "#rolling mean\n",
    "window = 10\n",
    "\n",
    "losses = pd.Series(losses)\n",
    "losses = losses.rolling(window).mean()\n",
    "losses = losses[window:]\n",
    "losses2 = pd.Series(losses2)\n",
    "losses2 = losses2.rolling(window).mean()\n",
    "losses2 = losses2[window:]\n",
    "losses3 = pd.Series(losses3)\n",
    "losses3 = losses3.rolling(window).mean()\n",
    "losses3 = losses3[window:]\n",
    "\n",
    "\n",
    "sns.lineplot(x=range(len(losses)), y=losses)\n",
    "#sns.lineplot(x=range(len(losses2)), y=losses2)\n",
    "sns.lineplot(x=range(len(losses3)), y=losses3)"
   ]
  },
  {
   "cell_type": "code",
   "execution_count": 25,
   "metadata": {},
   "outputs": [],
   "source": [
    "path = 'output/aya_dataset_400000_clustered_c20s2_i100_b16a1_l512_r8a16_20240913122148/clusters_round50.npy'\n",
    "\n",
    "clusters = np.load(path, allow_pickle=True)"
   ]
  },
  {
   "cell_type": "code",
   "execution_count": 7,
   "metadata": {},
   "outputs": [
    {
     "data": {
      "text/plain": [
       "array([1, 1, 1, 1, 4, 4, 4, 4, 5, 5, 5, 5, 2, 2, 2, 2, 3, 3, 3, 3],\n",
       "      dtype=int32)"
      ]
     },
     "execution_count": 7,
     "metadata": {},
     "output_type": "execute_result"
    }
   ],
   "source": [
    "clusters"
   ]
  },
  {
   "cell_type": "code",
   "execution_count": 17,
   "metadata": {},
   "outputs": [
    {
     "data": {
      "image/png": "[encoded data removed]",
      "text/plain": [
       "<Figure size 640x480 with 1 Axes>"
      ]
     },
     "metadata": {},
     "output_type": "display_data"
    }
   ],
   "source": [
    "# Load the data\n",
    "paths = ['output/alpaca-data-pt-br_10000_local1_c20s2_i10_b16a1_l512_r8a16_20240905071418',\n",
    "         'output/alpaca-data-pt-br_10000_local2_c20s2_i10_b16a1_l512_r8a16_20240905071433',\n",
    "         'output/alpaca-data-pt-br_10000_local3_c20s2_i10_b16a1_l512_r8a16_20240905071639',\n",
    "         'output/alpaca-data-pt-br_10000_local4_c20s2_i10_b16a1_l512_r8a16_20240905071708',\n",
    "         ]\n",
    "\n",
    "for i, client in enumerate([1, 2, 3, 4]):\n",
    "\n",
    "    path = paths[i] + '/training_loss.npy'\n",
    "    data = np.load(path, allow_pickle=True)\n",
    "\n",
    "    losses = []\n",
    "    data = data.T\n",
    "    for r in range(len(data)):\n",
    "        loss = np.where(data[r] != -1, data[r], np.nan)\n",
    "        loss = loss[~np.isnan(loss)]\n",
    "        loss = loss.mean()\n",
    "        losses.append(loss)\n",
    "\n",
    "    sns.lineplot(x=range(len(losses)), y=losses, label=f'Client {client}')"
   ]
  },
  {
   "cell_type": "code",
   "execution_count": 8,
   "metadata": {},
   "outputs": [],
   "source": [
    "import os"
   ]
  },
  {
   "cell_type": "code",
   "execution_count": 9,
   "metadata": {},
   "outputs": [],
   "source": [
    "os.environ[\"CUDA_VISIBLE_DEVICES\"] = \"1\""
   ]
  },
  {
   "cell_type": "code",
   "execution_count": 10,
   "metadata": {},
   "outputs": [
    {
     "name": "stderr",
     "output_type": "stream",
     "text": [
      "Some weights of LlamaForCausalLM were not initialized from the model checkpoint at TinyLlama/TinyLlama_v1.1 and are newly initialized: ['model.layers.16.self_attn.rotary_emb.inv_freq', 'model.layers.9.self_attn.rotary_emb.inv_freq', 'model.layers.8.self_attn.rotary_emb.inv_freq', 'model.layers.11.self_attn.rotary_emb.inv_freq', 'model.layers.6.self_attn.rotary_emb.inv_freq', 'model.layers.14.self_attn.rotary_emb.inv_freq', 'model.layers.4.self_attn.rotary_emb.inv_freq', 'model.layers.13.self_attn.rotary_emb.inv_freq', 'model.layers.17.self_attn.rotary_emb.inv_freq', 'model.layers.2.self_attn.rotary_emb.inv_freq', 'model.layers.19.self_attn.rotary_emb.inv_freq', 'model.layers.15.self_attn.rotary_emb.inv_freq', 'model.layers.18.self_attn.rotary_emb.inv_freq', 'model.layers.1.self_attn.rotary_emb.inv_freq', 'model.layers.3.self_attn.rotary_emb.inv_freq', 'model.layers.0.self_attn.rotary_emb.inv_freq', 'model.layers.5.self_attn.rotary_emb.inv_freq', 'model.layers.7.self_attn.rotary_emb.inv_freq', 'model.layers.20.self_attn.rotary_emb.inv_freq', 'model.layers.12.self_attn.rotary_emb.inv_freq', 'model.layers.10.self_attn.rotary_emb.inv_freq', 'model.layers.21.self_attn.rotary_emb.inv_freq']\n",
      "You should probably TRAIN this model on a down-stream task to be able to use it for predictions and inference.\n"
     ]
    }
   ],
   "source": [
    "import sys\n",
    "import os\n",
    "from tqdm import tqdm\n",
    "import numpy as np\n",
    "import torch\n",
    "sys.path.append(\".\")\n",
    "from transformers import AutoModelForCausalLM, AutoTokenizer, BitsAndBytesConfig\n",
    "from peft import PeftModel\n",
    "from datasets import load_dataset\n",
    "from accelerate import Accelerator\n",
    "from torch.utils.data import DataLoader\n",
    "from utils.template import TEMPLATE_DICT\n",
    "\n",
    "#configs\n",
    "os.environ[\"CUDA_VISIBLE_DEVICES\"] = \"1\"\n",
    "template = TEMPLATE_DICT['alpaca'][0]\n",
    "MODEL_NAME = 'TinyLlama/TinyLlama_v1.1'\n",
    "DATASET_NAME = 'dominguesm/alpaca-data-pt-br'\n",
    "PATH = 'output/alpaca-data-pt-br_30000_fedavg_c60s2_i10_b16a1_l512_r8a16_20240910094609'\n",
    "DEVICE = 'cuda'\n",
    "NUM_CHECKPOINTS = 20\n",
    "EVALSET_LEN = 50\n",
    "\n",
    "path = PATH + f'/checkpoint-60'\n",
    "model = AutoModelForCausalLM.from_pretrained(MODEL_NAME, torch_dtype=torch.float16,\n",
    "                                                quantization_config = BitsAndBytesConfig(\n",
    "                                                                        load_in_4bit=True,\n",
    "                                                                        bnb_4bit_use_double_quant=True,\n",
    "                                                                        bnb_4bit_quant_type=\"nf4\",\n",
    "                                                                        bnb_4bit_compute_dtype=torch.bfloat16,\n",
    "                                                                    ),\n",
    "                                                device_map={\"\": Accelerator().local_process_index},)\n",
    "model = PeftModel.from_pretrained(model, path).to(DEVICE)\n",
    "tokenizer = AutoTokenizer.from_pretrained(MODEL_NAME, use_fast=False)"
   ]
  },
  {
   "cell_type": "code",
   "execution_count": 11,
   "metadata": {},
   "outputs": [
    {
     "name": "stderr",
     "output_type": "stream",
     "text": [
      "Found cached dataset parquet (/home/gabriel.talasso/.cache/huggingface/datasets/dominguesm___parquet/dominguesm--alpaca-data-pt-br-5efe953862af8eb8/0.0.0/14a00e99c0d15a23649d0db8944380ac81082d4b021f398733dd84f3a6c569a7)\n",
      "Loading cached shuffled indices for dataset at /home/gabriel.talasso/.cache/huggingface/datasets/dominguesm___parquet/dominguesm--alpaca-data-pt-br-5efe953862af8eb8/0.0.0/14a00e99c0d15a23649d0db8944380ac81082d4b021f398733dd84f3a6c569a7/cache-b20228def560605b.arrow\n"
     ]
    }
   ],
   "source": [
    "dataset = load_dataset(DATASET_NAME, split='train').shuffle(seed=42)\n",
    "dataset = dataset.select(range(500))\n",
    "device = 'cuda'"
   ]
  },
  {
   "cell_type": "code",
   "execution_count": 12,
   "metadata": {},
   "outputs": [
    {
     "name": "stderr",
     "output_type": "stream",
     "text": [
      "100%|██████████| 500/500 [01:06<00:00,  7.48it/s]"
     ]
    },
    {
     "name": "stdout",
     "output_type": "stream",
     "text": [
      "Mean Perplexity: 60.08\n",
      "Standard Deviation of Perplexity: 115.68\n"
     ]
    },
    {
     "name": "stderr",
     "output_type": "stream",
     "text": [
      "\n"
     ]
    }
   ],
   "source": [
    "def calculate_perplexity(instruction, output):\n",
    "    # Combine instruction and output\n",
    "    combined = f\"{instruction} [SEP] {output}\"\n",
    "    \n",
    "    # Tokenize\n",
    "    encodings = tokenizer(combined, return_tensors=\"pt\", truncation=True, max_length=512)\n",
    "    input_ids = encodings[\"input_ids\"].to(device)\n",
    "    attention_mask = encodings[\"attention_mask\"].to(device)\n",
    "    \n",
    "    # Calculate perplexity\n",
    "    with torch.no_grad():\n",
    "        outputs = model(input_ids, attention_mask=attention_mask, labels=input_ids)\n",
    "        loss = outputs.loss\n",
    "        \n",
    "    return torch.exp(loss).item()\n",
    "\n",
    "model.eval()\n",
    "perplexities = []\n",
    "\n",
    "for sample in tqdm(dataset):\n",
    "    instruction = sample[\"instruction\"] + sample[\"input\"]\n",
    "\n",
    "    perplexity = calculate_perplexity(instruction, sample[\"output\"])\n",
    "    perplexities.append(perplexity)\n",
    "\n",
    "# 5. Calculate mean perplexity\n",
    "mean_perplexity = np.mean(perplexities)\n",
    "std_perplexity = np.std(perplexities)\n",
    "\n",
    "print(f\"Mean Perplexity: {mean_perplexity:.2f}\")\n",
    "print(f\"Standard Deviation of Perplexity: {std_perplexity:.2f}\")\n",
    "\n",
    "# 6. (Optional) Print perplexities for each sample\n",
    "#for i, (sample, perplexity) in enumerate(zip(dataset, perplexities)):\n",
    "#    instruction = sample[\"instruction\"] + sample[\"input\"]\n",
    "#    print(f\"Sample {i + 1}:\")\n",
    "#    print(f\"Instruction: {instruction}\")\n",
    "#    print(f\"Output: {sample['output']}\")\n",
    "#    print(f\"Perplexity: {perplexity:.2f}\")\n",
    "#    print(\"-\" * 50)"
   ]
  },
  {
   "cell_type": "code",
   "execution_count": 13,
   "metadata": {},
   "outputs": [
    {
     "ename": "SyntaxError",
     "evalue": "invalid syntax (2380462423.py, line 2)",
     "output_type": "error",
     "traceback": [
      "\u001b[0;36m  Cell \u001b[0;32mIn[13], line 2\u001b[0;36m\u001b[0m\n\u001b[0;31m    Mean Perplexity: 72.65\u001b[0m\n\u001b[0m         ^\u001b[0m\n\u001b[0;31mSyntaxError\u001b[0m\u001b[0;31m:\u001b[0m invalid syntax\n"
     ]
    }
   ],
   "source": [
    "#base model\n",
    "Mean Perplexity: 72.65\n",
    "Standard Deviation of Perplexity: 137.91\n",
    "\n",
    "\n",
    "#model with 10 rounds\n",
    "Mean Perplexity: 69.00\n",
    "Standard Deviation of Perplexity: 138.36\n",
    "\n",
    "\n",
    "#model with 50 rounds\n",
    "Mean Perplexity: 60.29\n",
    "Standard Deviation of Perplexity: 115.26\n",
    "\n",
    "\n",
    "#model with 100 rounds\n",
    "Mean Perplexity: 60.93\n",
    "Standard Deviation of Perplexity: 115.26\n",
    "\n",
    "\n",
    "#model with 200 rounds\n",
    "Mean Perplexity: 61.11\n",
    "Standard Deviation of Perplexity: 116.74"
   ]
  },
  {
   "cell_type": "code",
   "execution_count": null,
   "metadata": {},
   "outputs": [],
   "source": [
    "\n",
    "#model 2 with with 10 rounds\n",
    "Mean Perplexity: 67.78\n",
    "Standard Deviation of Perplexity: 134.27\n",
    "\n",
    "\n",
    "#model 2 with with 50 rounds\n",
    "Mean Perplexity: 59.74\n",
    "Standard Deviation of Perplexity: 115.39\n",
    "\n",
    "#model 2 with with 100 rounds\n",
    "Mean Perplexity: 60.36\n",
    "Standard Deviation of Perplexity: 115.76\n",
    "\n",
    "\n",
    "#model 2 with with 200 rounds\n",
    "Mean Perplexity: 60.32\n",
    "Standard Deviation of Perplexity: 119.07"
   ]
  },
  {
   "cell_type": "code",
   "execution_count": 20,
   "metadata": {},
   "outputs": [
    {
     "data": {
      "text/plain": [
       "<Axes: >"
      ]
     },
     "execution_count": 20,
     "metadata": {},
     "output_type": "execute_result"
    },
    {
     "data": {
      "image/png": "[encoded data removed]",
      "text/plain": [
       "<Figure size 640x480 with 2 Axes>"
      ]
     },
     "metadata": {},
     "output_type": "display_data"
    }
   ],
   "source": [
    "patg_sim_matrx = 'output/aya_dataset_500000_clustered_c20s2_i10_b16a1_l512_r8a16_20240912202551/similarity_B_round50.npy'\n",
    "\n",
    "sim_matrix = np.load(patg_sim_matrx)\n",
    "sns.heatmap(sim_matrix)"
   ]
  },
  {
   "cell_type": "code",
   "execution_count": 39,
   "metadata": {},
   "outputs": [
    {
     "name": "stderr",
     "output_type": "stream",
     "text": [
      "Found cached dataset parquet (/home/gabriel.talasso/.cache/huggingface/datasets/CohereForAI___parquet/default-dc0ecc36655ce556/0.0.0/14a00e99c0d15a23649d0db8944380ac81082d4b021f398733dd84f3a6c569a7)\n",
      "Loading cached processed dataset at /home/gabriel.talasso/.cache/huggingface/datasets/CohereForAI___parquet/default-dc0ecc36655ce556/0.0.0/14a00e99c0d15a23649d0db8944380ac81082d4b021f398733dd84f3a6c569a7/cache-11e8f7e034e2f0b5.arrow\n"
     ]
    }
   ],
   "source": [
    "languages = ['English', 'Swedish', 'German', 'Portuguese', 'Spanish']\n",
    "dataset = load_dataset(\"CohereForAI/aya_dataset\", split=\"train\")\n",
    "dataset = dataset.filter(lambda x: x['language'] in languages)"
   ]
  },
  {
   "cell_type": "code",
   "execution_count": 40,
   "metadata": {},
   "outputs": [],
   "source": [
    "num_clients = 20\n",
    "seed = 42"
   ]
  },
  {
   "cell_type": "code",
   "execution_count": 41,
   "metadata": {},
   "outputs": [
    {
     "name": "stderr",
     "output_type": "stream",
     "text": [
      "Loading cached shuffled indices for dataset at /home/gabriel.talasso/.cache/huggingface/datasets/CohereForAI___parquet/default-dc0ecc36655ce556/0.0.0/14a00e99c0d15a23649d0db8944380ac81082d4b021f398733dd84f3a6c569a7/cache-34522a74f434dfd7.arrow\n"
     ]
    }
   ],
   "source": [
    "dataset = dataset.shuffle(seed=seed)        # Shuffle the dataset\n",
    "local_datasets = []"
   ]
  },
  {
   "cell_type": "code",
   "execution_count": null,
   "metadata": {},
   "outputs": [],
   "source": [
    "languages = ['English', 'Swedish', 'German', 'Portuguese', 'Spanish']\n",
    "n_clients_in_cluster = num_clients // len(languages)\n",
    "\n",
    "for i in range(num_clients):\n",
    "    language = languages[i // n_clients_in_cluster]\n",
    "    cluster_dataset = dataset.filter(lambda x: x['language'] == language)\n",
    "    cluster_dataset = cluster_dataset.shuffle(seed=seed)\n",
    "\n",
    "    local_datasets.append(cluster_dataset.shard(n_clients_in_cluster, i % n_clients_in_cluster))"
   ]
  },
  {
   "cell_type": "code",
   "execution_count": 47,
   "metadata": {},
   "outputs": [
    {
     "data": {
      "text/plain": [
       "Dataset({\n",
       "    features: ['inputs', 'targets', 'language', 'language_code', 'annotation_type', 'user_id'],\n",
       "    num_rows: 986\n",
       "})"
      ]
     },
     "execution_count": 47,
     "metadata": {},
     "output_type": "execute_result"
    }
   ],
   "source": [
    "local_datasets[0]"
   ]
  },
  {
   "cell_type": "code",
   "execution_count": 48,
   "metadata": {},
   "outputs": [
    {
     "data": {
      "text/plain": [
       "Dataset({\n",
       "    features: ['inputs', 'targets', 'language', 'language_code', 'annotation_type', 'user_id'],\n",
       "    num_rows: 986\n",
       "})"
      ]
     },
     "execution_count": 48,
     "metadata": {},
     "output_type": "execute_result"
    }
   ],
   "source": [
    "local_datasets[1]"
   ]
  },
  {
   "cell_type": "code",
   "execution_count": 33,
   "metadata": {},
   "outputs": [
    {
     "data": {
      "text/plain": [
       "['Fråga: När kom Bill of Rights ut? Svar:',\n",
       " 'Slutför den här frasen: På Oscarsgalan',\n",
       " 'Vilket är Sveriges minsta landskap till ytan?',\n",
       " 'Skriv en fortsättning på den här paragrafen - Hamilton blev officer vid infanteriet 1872, överste 1891, generalmajor 1899, generallöjtnant 1901, general 1907 och erhöll avsked 1919. Hamilton deltog i kriget mot Afghanistan 1878-80 och mot boerna 1881, där han svårt sårades i slaget vid Majuba, samt vidare i fälttågen i Egypten 1884-85 och Burma 1886-87. Efter huvudsaklig tjänstgöring i Indien blev han vid',\n",
       " 'Skriv en fortsättning på den här paragrafen - Partiet spelade en viktig roll både direkt och indirekt under den avgörande period i iransk historia som började med 1951 års nationalisering av British Anglo Iranian Oil Company (AIOC), och slutade med den',\n",
       " 'Slutför den här frasen: Den finska paviljongen \"Lumi\", som utformas som ett arabiskt tält täckt av snö, har skapats av \"JKMM Architects\" som också skapade Finlands paviljong vid',\n",
       " 'Skriv en fortsättning på den här paragrafen - Yuanmingyuan, ofta även kallad Gamla sommarpalatset, uppfördes under Qingdynastin (1644–1912) som ett komplement till Den förbjudna staden. Byggnationerna påbörjades 1709',\n",
       " 'Skriv en fortsättning på den här paragrafen - Under den Mexikanska revolutionen 1913 tog sig Masson in i Mexiko utan tillstånd då han engagerades av mexikanska rebeller. Rebellerna hade',\n",
       " 'Slutför den här frasen: I samband med Tysklands delning kom universitetet att befinna sig i den sovjetiska ockupationssektorn i Östberlin. Undervisningen började åter i januari 1946, nu underställd den sovjetiska militärförvaltningen av Östberlin. Fram till 1948 kom universitetet gradvis att anpassas till officiell sovjetisk doktrin, och ideologiska föreläsningar organiserade av kommunistpartiet SED gjordes till en obligatorisk del av undervisningen. Studentprotester under åren 1946-1948 ledde till att flera studenter tillhörande CDU och Junge Union dömdes till långa fängelsestraff i arbetsläger, och enstaka medlemmar av proteströrelsen avrättades i Sovjetunionen. Som en reaktion på dessa händelser och SED-ledningens vägran att anta studenter som ansågs politiskt oppositionella, grundades på studentoppositionens begäran Freie Universität Berlin 1948, med understöd av Västberlins regerande borgmästare Ernst Reuter och den amerikanska ockupationsmakten. Freie Universität förlade sin verksamhet till förorten Dahlem i Västberlin. Samma år inleddes',\n",
       " 'Slutför den här frasen: Nya Zeeland har fört vad Clark och hennes anhängare kallar en \"oberoende\" utrikespolitik under hennes regeringar. Nya Zeeland förblir en ']"
      ]
     },
     "execution_count": 33,
     "metadata": {},
     "output_type": "execute_result"
    }
   ],
   "source": [
    "local_datasets[5]['inputs'][:10]"
   ]
  },
  {
   "cell_type": "code",
   "execution_count": 14,
   "metadata": {},
   "outputs": [
    {
     "ename": "NameError",
     "evalue": "name 'local_datasets' is not defined",
     "output_type": "error",
     "traceback": [
      "\u001b[0;31m---------------------------------------------------------------------------\u001b[0m",
      "\u001b[0;31mNameError\u001b[0m                                 Traceback (most recent call last)",
      "Cell \u001b[0;32mIn[14], line 1\u001b[0m\n\u001b[0;32m----> 1\u001b[0m \u001b[43mlocal_datasets\u001b[49m[\u001b[38;5;241m6\u001b[39m][\u001b[38;5;124m'\u001b[39m\u001b[38;5;124minputs\u001b[39m\u001b[38;5;124m'\u001b[39m][:\u001b[38;5;241m10\u001b[39m]\n",
      "\u001b[0;31mNameError\u001b[0m: name 'local_datasets' is not defined"
     ]
    }
   ],
   "source": [
    "local_datasets[6]['inputs'][:10]"
   ]
  }
 ],
 "metadata": {
  "kernelspec": {
   "display_name": ".venv",
   "language": "python",
   "name": "python3"
  },
  "language_info": {
   "codemirror_mode": {
    "name": "ipython",
    "version": 3
   },
   "file_extension": ".py",
   "mimetype": "text/x-python",
   "name": "python",
   "nbconvert_exporter": "python",
   "pygments_lexer": "ipython3",
   "version": "3.10.12"
  }
 },
 "nbformat": 4,
 "nbformat_minor": 2
}

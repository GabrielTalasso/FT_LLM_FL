{
 "cells": [
  {
   "cell_type": "code",
   "execution_count": 1,
   "metadata": {},
   "outputs": [
    {
     "name": "stderr",
     "output_type": "stream",
     "text": [
      "/home/gabriel.talasso/FT_LLM_FL/.venv/lib/python3.10/site-packages/tqdm/auto.py:21: TqdmWarning: IProgress not found. Please update jupyter and ipywidgets. See https://ipywidgets.readthedocs.io/en/stable/user_install.html\n",
      "  from .autonotebook import tqdm as notebook_tqdm\n"
     ]
    },
    {
     "name": "stdout",
     "output_type": "stream",
     "text": [
      "[2024-10-01 16:23:15,401] [INFO] [real_accelerator.py:191:get_accelerator] Setting ds_accelerator to cuda (auto detect)\n"
     ]
    }
   ],
   "source": [
    "import sys\n",
    "import os\n",
    "from tqdm import tqdm\n",
    "import numpy as np\n",
    "import torch\n",
    "sys.path.append(\".\")\n",
    "from transformers import AutoModelForCausalLM, AutoTokenizer, BitsAndBytesConfig\n",
    "from peft import PeftModel\n",
    "from datasets import load_dataset\n",
    "from accelerate import Accelerator\n",
    "from torch.utils.data import DataLoader\n",
    "from utils.template import TEMPLATE_DICT\n",
    "import json\n",
    "import pandas as pd"
   ]
  },
  {
   "cell_type": "code",
   "execution_count": 2,
   "metadata": {},
   "outputs": [],
   "source": [
    "template = TEMPLATE_DICT['alpaca'][0]\n",
    "MODEL_NAME = 'TinyLlama/TinyLlama_v1.1'\n",
    "DATASET_NAME = \"CohereForAI/aya_dataset\"\n",
    "DEVICE = 'cuda:0'\n",
    "EVALSET_LEN = 10"
   ]
  },
  {
   "cell_type": "code",
   "execution_count": 3,
   "metadata": {},
   "outputs": [],
   "source": [
    "path = 'output/aya_dataset_400000_clustered_c20s2_i10_b16a1_l512_r8a16_20240923122624/cluster_0_checkpoint-200'"
   ]
  },
  {
   "cell_type": "code",
   "execution_count": 4,
   "metadata": {},
   "outputs": [
    {
     "name": "stderr",
     "output_type": "stream",
     "text": [
      "Some weights of LlamaForCausalLM were not initialized from the model checkpoint at TinyLlama/TinyLlama_v1.1 and are newly initialized: ['model.layers.8.self_attn.rotary_emb.inv_freq', 'model.layers.19.self_attn.rotary_emb.inv_freq', 'model.layers.2.self_attn.rotary_emb.inv_freq', 'model.layers.20.self_attn.rotary_emb.inv_freq', 'model.layers.18.self_attn.rotary_emb.inv_freq', 'model.layers.15.self_attn.rotary_emb.inv_freq', 'model.layers.1.self_attn.rotary_emb.inv_freq', 'model.layers.9.self_attn.rotary_emb.inv_freq', 'model.layers.14.self_attn.rotary_emb.inv_freq', 'model.layers.5.self_attn.rotary_emb.inv_freq', 'model.layers.16.self_attn.rotary_emb.inv_freq', 'model.layers.13.self_attn.rotary_emb.inv_freq', 'model.layers.0.self_attn.rotary_emb.inv_freq', 'model.layers.7.self_attn.rotary_emb.inv_freq', 'model.layers.10.self_attn.rotary_emb.inv_freq', 'model.layers.21.self_attn.rotary_emb.inv_freq', 'model.layers.4.self_attn.rotary_emb.inv_freq', 'model.layers.6.self_attn.rotary_emb.inv_freq', 'model.layers.3.self_attn.rotary_emb.inv_freq', 'model.layers.17.self_attn.rotary_emb.inv_freq', 'model.layers.12.self_attn.rotary_emb.inv_freq', 'model.layers.11.self_attn.rotary_emb.inv_freq']\n",
      "You should probably TRAIN this model on a down-stream task to be able to use it for predictions and inference.\n"
     ]
    }
   ],
   "source": [
    "def load_model(path, MODEL_NAME, DEVICE):\n",
    "    model = AutoModelForCausalLM.from_pretrained(MODEL_NAME, torch_dtype=torch.float16,\n",
    "                                                    quantization_config = BitsAndBytesConfig(\n",
    "                                                                            load_in_4bit=True,\n",
    "                                                                            bnb_4bit_use_double_quant=True,\n",
    "                                                                            bnb_4bit_quant_type=\"nf4\",\n",
    "                                                                            bnb_4bit_compute_dtype=torch.bfloat16,\n",
    "                                                                        ),\n",
    "                                                    device_map={\"\": Accelerator().local_process_index})\n",
    "\n",
    "    model = PeftModel.from_pretrained(model, path).to(DEVICE)\n",
    "    tokenizer = AutoTokenizer.from_pretrained(MODEL_NAME, device=DEVICE, use_fast=False, padding_side=\"right\")\n",
    "    tokenizer.pad_token = tokenizer.unk_token\n",
    "\n",
    "    return model, tokenizer\n",
    "\n",
    "model, tokenizer = load_model(path, MODEL_NAME, DEVICE)"
   ]
  },
  {
   "cell_type": "code",
   "execution_count": 5,
   "metadata": {},
   "outputs": [],
   "source": [
    "def load_eval_data(DATASET_NAME, EVALSET_LEN, languages):\n",
    "    \n",
    "    dataset = load_dataset(DATASET_NAME, split=\"train\", )\n",
    "    dataset = dataset.filter(lambda x: x['language'] in ['English', 'Swedish', 'German', 'Portuguese', 'Spanish'])\n",
    "    dataset_splited = dataset.train_test_split(test_size= 0.2, seed=0)\n",
    "    dataset_test = dataset_splited['test']\n",
    "    dataset = dataset_test.filter(lambda x: x['language'] in languages)\n",
    "    dataset_len = min(len(dataset), EVALSET_LEN)\n",
    "    dataset = dataset.select(range(dataset_len))\n",
    "\n",
    "    return dataset"
   ]
  },
  {
   "cell_type": "code",
   "execution_count": 6,
   "metadata": {},
   "outputs": [],
   "source": [
    "def tokenize_function(examples):\n",
    "    inputs = tokenizer(examples[\"inputs\"],   padding=\"max_length\", truncation=True, return_tensors=\"pt\", max_length=512)\n",
    "    targets = tokenizer(examples[\"targets\"], padding=\"max_length\", truncation=True, return_tensors=\"pt\", max_length=512)\n",
    "    return {\n",
    "        \"input_ids\": inputs[\"input_ids\"].squeeze(),\n",
    "        \"attention_mask\": inputs[\"attention_mask\"].squeeze(),\n",
    "        \"labels\": targets[\"input_ids\"].squeeze()\n",
    "    }"
   ]
  },
  {
   "cell_type": "code",
   "execution_count": 7,
   "metadata": {},
   "outputs": [
    {
     "name": "stderr",
     "output_type": "stream",
     "text": [
      "Found cached dataset parquet (/home/gabriel.talasso/.cache/huggingface/datasets/CohereForAI___parquet/default-dc0ecc36655ce556/0.0.0/14a00e99c0d15a23649d0db8944380ac81082d4b021f398733dd84f3a6c569a7)\n",
      "Loading cached processed dataset at /home/gabriel.talasso/.cache/huggingface/datasets/CohereForAI___parquet/default-dc0ecc36655ce556/0.0.0/14a00e99c0d15a23649d0db8944380ac81082d4b021f398733dd84f3a6c569a7/cache-a43a64b8b3c754cd.arrow\n",
      "Loading cached split indices for dataset at /home/gabriel.talasso/.cache/huggingface/datasets/CohereForAI___parquet/default-dc0ecc36655ce556/0.0.0/14a00e99c0d15a23649d0db8944380ac81082d4b021f398733dd84f3a6c569a7/cache-cca2a273063fd6b6.arrow and /home/gabriel.talasso/.cache/huggingface/datasets/CohereForAI___parquet/default-dc0ecc36655ce556/0.0.0/14a00e99c0d15a23649d0db8944380ac81082d4b021f398733dd84f3a6c569a7/cache-d0cf8b2e0da0987b.arrow\n",
      "Loading cached processed dataset at /home/gabriel.talasso/.cache/huggingface/datasets/CohereForAI___parquet/default-dc0ecc36655ce556/0.0.0/14a00e99c0d15a23649d0db8944380ac81082d4b021f398733dd84f3a6c569a7/cache-856d61da81906460.arrow\n"
     ]
    }
   ],
   "source": [
    "test_dataset = load_eval_data(DATASET_NAME, EVALSET_LEN, ['English'])"
   ]
  },
  {
   "cell_type": "code",
   "execution_count": 8,
   "metadata": {},
   "outputs": [],
   "source": [
    "import torch\n",
    "from tqdm import tqdm\n",
    "import numpy as np\n",
    "\n",
    "def format_instruction(instruction, response, eos):\n",
    "    template = \"\"\"Below is an instruction that describes a task. Write a response that appropriately completes the request.\n",
    "\n",
    "### Instruction:\n",
    "{} \n",
    "\n",
    "### Response: {}{}\"\"\"\n",
    "\n",
    "    return template.format(instruction, response, eos)\n",
    "\n",
    "def calculate_perplexity(model, tokenizer, dataset, max_length=512):\n",
    "    model.eval()\n",
    "    total_loss = 0\n",
    "    total_length = 0\n",
    "\n",
    "    with torch.no_grad():\n",
    "        for item in tqdm(dataset):\n",
    "            # Format the input as an instruction\n",
    "            input_text = format_instruction(item['inputs'], item['targets'], tokenizer.eos_token)\n",
    "\n",
    "            encodings = tokenizer(input_text, return_tensors='pt', truncation=True, max_length=max_length)\n",
    "            input_ids = encodings.input_ids.to(model.device)\n",
    "            target_ids = input_ids.clone()\n",
    "            \n",
    "            #print(input_text)\n",
    "            #print(input_ids)\n",
    "            \n",
    "            outputs = model(input_ids, labels=target_ids)\n",
    "            loss = outputs.loss\n",
    "\n",
    "            #input_text = format_instruction(item['inputs'], '', '')\n",
    "            #input_ids = tokenizer(input_text, return_tensors='pt', truncation=True, max_length=max_length)\n",
    "            #outputs_ids = model.generate(**input_ids, max_length=512, num_beams=8, no_repeat_ngram_size=3, early_stopping=True)\n",
    "            #outputs_text = tokenizer.decode(outputs_ids[0], skip_special_tokens=True)\n",
    "            #print(outputs_text)\n",
    "            \n",
    "            total_loss += loss.item()\n",
    "\n",
    "    return torch.exp(torch.tensor(total_loss/ len(dataset)))"
   ]
  },
  {
   "cell_type": "code",
   "execution_count": 9,
   "metadata": {},
   "outputs": [],
   "source": [
    "#calculate_perplexity(model, tokenizer, test_dataset)"
   ]
  },
  {
   "cell_type": "code",
   "execution_count": 10,
   "metadata": {},
   "outputs": [],
   "source": [
    "#perplexity round 1 em pt br: 22.7364\n",
    "#perplexity round 25 em pt br: 23.4307"
   ]
  },
  {
   "cell_type": "code",
   "execution_count": 11,
   "metadata": {},
   "outputs": [],
   "source": [
    "def calculate_completion_perplexity(model, tokenizer, dataset, device, max_length=512):\n",
    "    model.eval()\n",
    "    total_loss = 0\n",
    "    total_tokens = 0\n",
    "\n",
    "    with torch.no_grad():\n",
    "        for item in tqdm(dataset):\n",
    "            # Format the prompt\n",
    "            prompt = format_instruction(item['inputs'], '', '')\n",
    "            \n",
    "            # Tokenize the prompt\n",
    "            prompt_ids = tokenizer(prompt, return_tensors='pt').to(device)\n",
    "            \n",
    "            # Generate completion\n",
    "            output_ids = model.generate(**prompt_ids, max_length=max_length, num_return_sequences=1)\n",
    "\n",
    "            print(tokenizer.decode(output_ids[0], skip_special_tokens=True))\n",
    "            #expected response\n",
    "            #print(item['targets'])\n",
    "            \n",
    "            # Extract only the completion part\n",
    "            completion_ids = output_ids[0][prompt_ids['input_ids'].shape[1]:]\n",
    "\n",
    "            \n",
    "            # Prepare input for loss calculation\n",
    "            input_ids = completion_ids[:-1].unsqueeze(0)\n",
    "            #target_ids = completion_ids[1:].unsqueeze(0)\n",
    "\n",
    "            target_ids = tokenizer(item['targets'], return_tensors='pt', max_length=max_length, padding='max_length').to(device)['input_ids']\n",
    "            print(item['targets'])\n",
    "\n",
    "            #make target and inputs the same length\n",
    "            if target_ids.shape[1] > input_ids.shape[1]:\n",
    "                target_ids = target_ids[:, :input_ids.shape[1]]\n",
    "            else:\n",
    "                input_ids = input_ids[:, :target_ids.shape[1]]\n",
    "            \n",
    "            # Calculate loss\n",
    "            outputs = model(input_ids, labels=target_ids)\n",
    "            loss = outputs.loss\n",
    "            \n",
    "            total_loss += loss.item() \n",
    "            print('Loss:', loss.item())\n",
    "\n",
    "    avg_loss = total_loss / len(dataset)\n",
    "    perplexity = torch.exp(torch.tensor(avg_loss))\n",
    "    \n",
    "    return perplexity.item()"
   ]
  },
  {
   "cell_type": "code",
   "execution_count": 12,
   "metadata": {},
   "outputs": [],
   "source": [
    "#calculate_completion_perplexity(model, tokenizer, test_dataset, DEVICE)"
   ]
  },
  {
   "cell_type": "code",
   "execution_count": 13,
   "metadata": {},
   "outputs": [],
   "source": [
    "def calculate_ground_truth_perplexity(model, tokenizer, dataset, device, max_length=512):\n",
    "    model.eval()\n",
    "    total_loss = 0\n",
    "    total_tokens = 0\n",
    "\n",
    "    with torch.no_grad():\n",
    "        for item in tqdm(dataset):\n",
    "            # Format the prompt\n",
    "            prompt = format_instruction(item['inputs'], '', '')\n",
    "            ground_truth = item['targets']\n",
    "            \n",
    "            # Combine prompt and ground truth\n",
    "            full_text = prompt + ground_truth\n",
    "            \n",
    "            # Tokenize the full text\n",
    "            encodings = tokenizer(full_text, return_tensors='pt', truncation=True, max_length=max_length)\n",
    "            input_ids = encodings.input_ids.to(device)\n",
    "            \n",
    "            # Prepare input for loss calculation\n",
    "            target_ids = input_ids.clone()\n",
    "            \n",
    "            # Calculate loss only on the ground truth part\n",
    "            prompt_length = len(tokenizer.encode(prompt)) - 1  # -1 to not count the last token twice\n",
    "            outputs = model(input_ids, labels=target_ids)\n",
    "            loss = outputs.loss\n",
    "            \n",
    "            total_loss += loss.item()\n",
    "            \n",
    "            #print('Loss:', loss.item())\n",
    "\n",
    "    avg_loss = total_loss / len(dataset)\n",
    "    perplexity = torch.exp(torch.tensor(avg_loss))\n",
    "    \n",
    "    return perplexity.item()"
   ]
  },
  {
   "cell_type": "code",
   "execution_count": 14,
   "metadata": {},
   "outputs": [],
   "source": [
    "#calculate_ground_truth_perplexity(model, tokenizer, test_dataset, DEVICE)"
   ]
  },
  {
   "cell_type": "code",
   "execution_count": 15,
   "metadata": {},
   "outputs": [],
   "source": [
    "def make_completions(model, tokenizer, dataset, device, max_length=512, model_name='checkpoint'):\n",
    "\n",
    "    df = pd.DataFrame(columns=['model', 'instruction', 'response'])\n",
    "    model.eval()\n",
    "    completions = []\n",
    "\n",
    "    with torch.no_grad():\n",
    "        for item in tqdm(dataset):\n",
    "            # Format the prompt\n",
    "            prompt = format_instruction(item['inputs'], '', '')\n",
    "            \n",
    "            # Tokenize the prompt\n",
    "            prompt_ids = tokenizer(prompt, return_tensors='pt').to(device)\n",
    "\n",
    "            # Generate completion\n",
    "            output_ids = model.generate(**prompt_ids, max_length=max_length, num_return_sequences=1)\n",
    "\n",
    "            # Extract only the completion part\n",
    "            completion_ids = output_ids[0][prompt_ids['input_ids'].shape[1]:]\n",
    "\n",
    "            # Decode the completion\n",
    "            completion = tokenizer.decode(completion_ids, skip_special_tokens=True)\n",
    "\n",
    "            completions.append(completion)\n",
    "\n",
    "        df['model'] = model_name\n",
    "        df['instruction'] = dataset['inputs']\n",
    "        df['response'] = completions\n",
    "        \n",
    "    return df"
   ]
  },
  {
   "cell_type": "code",
   "execution_count": 16,
   "metadata": {},
   "outputs": [],
   "source": [
    "import evaluate\n",
    "rouge = evaluate.load('rouge')\n",
    "bleu = evaluate.load('bleu')\n",
    "\n",
    "def calcule_rouge(df, test_dataset):\n",
    "    result = rouge.compute(predictions=df['response'], references=test_dataset['targets'])\n",
    "    return result\n",
    "\n",
    "def calcule_bleu(df, test_dataset):\n",
    "    result = bleu.compute(predictions=df['response'], references=test_dataset['targets'])\n",
    "    return result"
   ]
  },
  {
   "cell_type": "code",
   "execution_count": 17,
   "metadata": {},
   "outputs": [],
   "source": [
    "EVALSET_LEN = 100"
   ]
  },
  {
   "cell_type": "code",
   "execution_count": 18,
   "metadata": {},
   "outputs": [
    {
     "name": "stderr",
     "output_type": "stream",
     "text": [
      "Some weights of LlamaForCausalLM were not initialized from the model checkpoint at TinyLlama/TinyLlama_v1.1 and are newly initialized: ['model.layers.8.self_attn.rotary_emb.inv_freq', 'model.layers.19.self_attn.rotary_emb.inv_freq', 'model.layers.2.self_attn.rotary_emb.inv_freq', 'model.layers.20.self_attn.rotary_emb.inv_freq', 'model.layers.18.self_attn.rotary_emb.inv_freq', 'model.layers.15.self_attn.rotary_emb.inv_freq', 'model.layers.1.self_attn.rotary_emb.inv_freq', 'model.layers.9.self_attn.rotary_emb.inv_freq', 'model.layers.14.self_attn.rotary_emb.inv_freq', 'model.layers.5.self_attn.rotary_emb.inv_freq', 'model.layers.16.self_attn.rotary_emb.inv_freq', 'model.layers.13.self_attn.rotary_emb.inv_freq', 'model.layers.0.self_attn.rotary_emb.inv_freq', 'model.layers.7.self_attn.rotary_emb.inv_freq', 'model.layers.10.self_attn.rotary_emb.inv_freq', 'model.layers.21.self_attn.rotary_emb.inv_freq', 'model.layers.4.self_attn.rotary_emb.inv_freq', 'model.layers.6.self_attn.rotary_emb.inv_freq', 'model.layers.3.self_attn.rotary_emb.inv_freq', 'model.layers.17.self_attn.rotary_emb.inv_freq', 'model.layers.12.self_attn.rotary_emb.inv_freq', 'model.layers.11.self_attn.rotary_emb.inv_freq']\n",
      "You should probably TRAIN this model on a down-stream task to be able to use it for predictions and inference.\n",
      "Found cached dataset parquet (/home/gabriel.talasso/.cache/huggingface/datasets/CohereForAI___parquet/default-dc0ecc36655ce556/0.0.0/14a00e99c0d15a23649d0db8944380ac81082d4b021f398733dd84f3a6c569a7)\n",
      "Loading cached processed dataset at /home/gabriel.talasso/.cache/huggingface/datasets/CohereForAI___parquet/default-dc0ecc36655ce556/0.0.0/14a00e99c0d15a23649d0db8944380ac81082d4b021f398733dd84f3a6c569a7/cache-a43a64b8b3c754cd.arrow\n",
      "Loading cached split indices for dataset at /home/gabriel.talasso/.cache/huggingface/datasets/CohereForAI___parquet/default-dc0ecc36655ce556/0.0.0/14a00e99c0d15a23649d0db8944380ac81082d4b021f398733dd84f3a6c569a7/cache-cca2a273063fd6b6.arrow and /home/gabriel.talasso/.cache/huggingface/datasets/CohereForAI___parquet/default-dc0ecc36655ce556/0.0.0/14a00e99c0d15a23649d0db8944380ac81082d4b021f398733dd84f3a6c569a7/cache-d0cf8b2e0da0987b.arrow\n",
      "Loading cached processed dataset at /home/gabriel.talasso/.cache/huggingface/datasets/CohereForAI___parquet/default-dc0ecc36655ce556/0.0.0/14a00e99c0d15a23649d0db8944380ac81082d4b021f398733dd84f3a6c569a7/cache-b83850ff41d3a0e2.arrow\n",
      "  9%|▉         | 9/100 [01:01<10:09,  6.70s/it]Input length of input_ids is 199, but `max_length` is set to 128. This can lead to unexpected behavior. You should consider increasing `max_new_tokens`.\n",
      " 17%|█▋        | 17/100 [01:48<08:57,  6.47s/it]Input length of input_ids is 146, but `max_length` is set to 128. This can lead to unexpected behavior. You should consider increasing `max_new_tokens`.\n",
      " 31%|███       | 31/100 [03:19<08:00,  6.96s/it]Input length of input_ids is 130, but `max_length` is set to 128. This can lead to unexpected behavior. You should consider increasing `max_new_tokens`.\n",
      " 46%|████▌     | 46/100 [04:51<06:07,  6.81s/it]Input length of input_ids is 169, but `max_length` is set to 128. This can lead to unexpected behavior. You should consider increasing `max_new_tokens`.\n",
      " 50%|█████     | 50/100 [05:13<05:16,  6.34s/it]Input length of input_ids is 169, but `max_length` is set to 128. This can lead to unexpected behavior. You should consider increasing `max_new_tokens`.\n",
      " 59%|█████▉    | 59/100 [05:53<03:03,  4.48s/it]Input length of input_ids is 393, but `max_length` is set to 128. This can lead to unexpected behavior. You should consider increasing `max_new_tokens`.\n",
      " 76%|███████▌  | 76/100 [07:34<02:13,  5.56s/it]Input length of input_ids is 142, but `max_length` is set to 128. This can lead to unexpected behavior. You should consider increasing `max_new_tokens`.\n",
      "100%|██████████| 100/100 [10:07<00:00,  6.08s/it]\n"
     ]
    },
    {
     "name": "stdout",
     "output_type": "stream",
     "text": [
      "[{'model': 'output/aya_dataset_400000_clustered_c20s2_i10_b16a1_l512_r8a16_20240923122624/checkpoint-1', 'language_test': 'Portuguese', 'rouge1': 0.15369599492849095, 'rouge2': 0.062300892214794096, 'rougeL': 0.13582667633256051, 'bleu': 0.036847869222622696}]\n"
     ]
    },
    {
     "name": "stderr",
     "output_type": "stream",
     "text": [
      "Some weights of LlamaForCausalLM were not initialized from the model checkpoint at TinyLlama/TinyLlama_v1.1 and are newly initialized: ['model.layers.8.self_attn.rotary_emb.inv_freq', 'model.layers.19.self_attn.rotary_emb.inv_freq', 'model.layers.2.self_attn.rotary_emb.inv_freq', 'model.layers.20.self_attn.rotary_emb.inv_freq', 'model.layers.18.self_attn.rotary_emb.inv_freq', 'model.layers.15.self_attn.rotary_emb.inv_freq', 'model.layers.1.self_attn.rotary_emb.inv_freq', 'model.layers.9.self_attn.rotary_emb.inv_freq', 'model.layers.14.self_attn.rotary_emb.inv_freq', 'model.layers.5.self_attn.rotary_emb.inv_freq', 'model.layers.16.self_attn.rotary_emb.inv_freq', 'model.layers.13.self_attn.rotary_emb.inv_freq', 'model.layers.0.self_attn.rotary_emb.inv_freq', 'model.layers.7.self_attn.rotary_emb.inv_freq', 'model.layers.10.self_attn.rotary_emb.inv_freq', 'model.layers.21.self_attn.rotary_emb.inv_freq', 'model.layers.4.self_attn.rotary_emb.inv_freq', 'model.layers.6.self_attn.rotary_emb.inv_freq', 'model.layers.3.self_attn.rotary_emb.inv_freq', 'model.layers.17.self_attn.rotary_emb.inv_freq', 'model.layers.12.self_attn.rotary_emb.inv_freq', 'model.layers.11.self_attn.rotary_emb.inv_freq']\n",
      "You should probably TRAIN this model on a down-stream task to be able to use it for predictions and inference.\n",
      "WARNING:datasets.builder:Found cached dataset parquet (/home/gabriel.talasso/.cache/huggingface/datasets/CohereForAI___parquet/default-dc0ecc36655ce556/0.0.0/14a00e99c0d15a23649d0db8944380ac81082d4b021f398733dd84f3a6c569a7)\n",
      "WARNING:datasets.arrow_dataset:Loading cached processed dataset at /home/gabriel.talasso/.cache/huggingface/datasets/CohereForAI___parquet/default-dc0ecc36655ce556/0.0.0/14a00e99c0d15a23649d0db8944380ac81082d4b021f398733dd84f3a6c569a7/cache-a43a64b8b3c754cd.arrow\n",
      "WARNING:datasets.arrow_dataset:Loading cached split indices for dataset at /home/gabriel.talasso/.cache/huggingface/datasets/CohereForAI___parquet/default-dc0ecc36655ce556/0.0.0/14a00e99c0d15a23649d0db8944380ac81082d4b021f398733dd84f3a6c569a7/cache-cca2a273063fd6b6.arrow and /home/gabriel.talasso/.cache/huggingface/datasets/CohereForAI___parquet/default-dc0ecc36655ce556/0.0.0/14a00e99c0d15a23649d0db8944380ac81082d4b021f398733dd84f3a6c569a7/cache-d0cf8b2e0da0987b.arrow\n",
      "WARNING:datasets.arrow_dataset:Loading cached processed dataset at /home/gabriel.talasso/.cache/huggingface/datasets/CohereForAI___parquet/default-dc0ecc36655ce556/0.0.0/14a00e99c0d15a23649d0db8944380ac81082d4b021f398733dd84f3a6c569a7/cache-b83850ff41d3a0e2.arrow\n",
      "  9%|▉         | 9/100 [00:32<05:14,  3.46s/it]Input length of input_ids is 199, but `max_length` is set to 128. This can lead to unexpected behavior. You should consider increasing `max_new_tokens`.\n",
      " 17%|█▋        | 17/100 [00:53<02:51,  2.07s/it]Input length of input_ids is 146, but `max_length` is set to 128. This can lead to unexpected behavior. You should consider increasing `max_new_tokens`.\n",
      " 31%|███       | 31/100 [01:39<04:55,  4.29s/it]Input length of input_ids is 130, but `max_length` is set to 128. This can lead to unexpected behavior. You should consider increasing `max_new_tokens`.\n",
      " 46%|████▌     | 46/100 [02:20<01:09,  1.29s/it]Input length of input_ids is 169, but `max_length` is set to 128. This can lead to unexpected behavior. You should consider increasing `max_new_tokens`.\n",
      " 50%|█████     | 50/100 [02:35<03:06,  3.73s/it]Input length of input_ids is 169, but `max_length` is set to 128. This can lead to unexpected behavior. You should consider increasing `max_new_tokens`.\n",
      " 59%|█████▉    | 59/100 [02:48<01:05,  1.60s/it]Input length of input_ids is 393, but `max_length` is set to 128. This can lead to unexpected behavior. You should consider increasing `max_new_tokens`.\n",
      " 76%|███████▌  | 76/100 [03:54<01:39,  4.16s/it]Input length of input_ids is 142, but `max_length` is set to 128. This can lead to unexpected behavior. You should consider increasing `max_new_tokens`.\n",
      "100%|██████████| 100/100 [05:17<00:00,  3.17s/it]\n"
     ]
    },
    {
     "name": "stdout",
     "output_type": "stream",
     "text": [
      "[{'model': 'output/aya_dataset_400000_clustered_c20s2_i10_b16a1_l512_r8a16_20240923122624/checkpoint-1', 'language_test': 'Portuguese', 'rouge1': 0.15369599492849095, 'rouge2': 0.062300892214794096, 'rougeL': 0.13582667633256051, 'bleu': 0.036847869222622696}, {'model': 'output/aya_dataset_400000_clustered_c20s2_i10_b16a1_l512_r8a16_20240923122624/cluster_0_checkpoint-100', 'language_test': 'Portuguese', 'rouge1': 0.13040813543028057, 'rouge2': 0.04359076806205733, 'rougeL': 0.11170739371161603, 'bleu': 0.029665899830704855}]\n"
     ]
    },
    {
     "name": "stderr",
     "output_type": "stream",
     "text": [
      "Some weights of LlamaForCausalLM were not initialized from the model checkpoint at TinyLlama/TinyLlama_v1.1 and are newly initialized: ['model.layers.8.self_attn.rotary_emb.inv_freq', 'model.layers.19.self_attn.rotary_emb.inv_freq', 'model.layers.2.self_attn.rotary_emb.inv_freq', 'model.layers.20.self_attn.rotary_emb.inv_freq', 'model.layers.18.self_attn.rotary_emb.inv_freq', 'model.layers.15.self_attn.rotary_emb.inv_freq', 'model.layers.1.self_attn.rotary_emb.inv_freq', 'model.layers.9.self_attn.rotary_emb.inv_freq', 'model.layers.14.self_attn.rotary_emb.inv_freq', 'model.layers.5.self_attn.rotary_emb.inv_freq', 'model.layers.16.self_attn.rotary_emb.inv_freq', 'model.layers.13.self_attn.rotary_emb.inv_freq', 'model.layers.0.self_attn.rotary_emb.inv_freq', 'model.layers.7.self_attn.rotary_emb.inv_freq', 'model.layers.10.self_attn.rotary_emb.inv_freq', 'model.layers.21.self_attn.rotary_emb.inv_freq', 'model.layers.4.self_attn.rotary_emb.inv_freq', 'model.layers.6.self_attn.rotary_emb.inv_freq', 'model.layers.3.self_attn.rotary_emb.inv_freq', 'model.layers.17.self_attn.rotary_emb.inv_freq', 'model.layers.12.self_attn.rotary_emb.inv_freq', 'model.layers.11.self_attn.rotary_emb.inv_freq']\n",
      "You should probably TRAIN this model on a down-stream task to be able to use it for predictions and inference.\n",
      "WARNING:datasets.builder:Found cached dataset parquet (/home/gabriel.talasso/.cache/huggingface/datasets/CohereForAI___parquet/default-dc0ecc36655ce556/0.0.0/14a00e99c0d15a23649d0db8944380ac81082d4b021f398733dd84f3a6c569a7)\n",
      "WARNING:datasets.arrow_dataset:Loading cached processed dataset at /home/gabriel.talasso/.cache/huggingface/datasets/CohereForAI___parquet/default-dc0ecc36655ce556/0.0.0/14a00e99c0d15a23649d0db8944380ac81082d4b021f398733dd84f3a6c569a7/cache-a43a64b8b3c754cd.arrow\n",
      "WARNING:datasets.arrow_dataset:Loading cached split indices for dataset at /home/gabriel.talasso/.cache/huggingface/datasets/CohereForAI___parquet/default-dc0ecc36655ce556/0.0.0/14a00e99c0d15a23649d0db8944380ac81082d4b021f398733dd84f3a6c569a7/cache-cca2a273063fd6b6.arrow and /home/gabriel.talasso/.cache/huggingface/datasets/CohereForAI___parquet/default-dc0ecc36655ce556/0.0.0/14a00e99c0d15a23649d0db8944380ac81082d4b021f398733dd84f3a6c569a7/cache-d0cf8b2e0da0987b.arrow\n",
      "WARNING:datasets.arrow_dataset:Loading cached processed dataset at /home/gabriel.talasso/.cache/huggingface/datasets/CohereForAI___parquet/default-dc0ecc36655ce556/0.0.0/14a00e99c0d15a23649d0db8944380ac81082d4b021f398733dd84f3a6c569a7/cache-b83850ff41d3a0e2.arrow\n",
      "  9%|▉         | 9/100 [00:31<05:05,  3.35s/it]Input length of input_ids is 199, but `max_length` is set to 128. This can lead to unexpected behavior. You should consider increasing `max_new_tokens`.\n",
      " 17%|█▋        | 17/100 [00:45<02:27,  1.78s/it]Input length of input_ids is 146, but `max_length` is set to 128. This can lead to unexpected behavior. You should consider increasing `max_new_tokens`.\n",
      " 31%|███       | 31/100 [01:30<05:55,  5.15s/it]Input length of input_ids is 130, but `max_length` is set to 128. This can lead to unexpected behavior. You should consider increasing `max_new_tokens`.\n",
      " 46%|████▌     | 46/100 [02:04<03:00,  3.34s/it]Input length of input_ids is 169, but `max_length` is set to 128. This can lead to unexpected behavior. You should consider increasing `max_new_tokens`.\n",
      " 50%|█████     | 50/100 [02:14<02:10,  2.60s/it]Input length of input_ids is 169, but `max_length` is set to 128. This can lead to unexpected behavior. You should consider increasing `max_new_tokens`.\n",
      " 59%|█████▉    | 59/100 [02:22<00:56,  1.38s/it]Input length of input_ids is 393, but `max_length` is set to 128. This can lead to unexpected behavior. You should consider increasing `max_new_tokens`.\n",
      " 76%|███████▌  | 76/100 [03:02<00:41,  1.74s/it]Input length of input_ids is 142, but `max_length` is set to 128. This can lead to unexpected behavior. You should consider increasing `max_new_tokens`.\n",
      "100%|██████████| 100/100 [04:14<00:00,  2.54s/it]\n"
     ]
    },
    {
     "name": "stdout",
     "output_type": "stream",
     "text": [
      "[{'model': 'output/aya_dataset_400000_clustered_c20s2_i10_b16a1_l512_r8a16_20240923122624/checkpoint-1', 'language_test': 'Portuguese', 'rouge1': 0.15369599492849095, 'rouge2': 0.062300892214794096, 'rougeL': 0.13582667633256051, 'bleu': 0.036847869222622696}, {'model': 'output/aya_dataset_400000_clustered_c20s2_i10_b16a1_l512_r8a16_20240923122624/cluster_0_checkpoint-100', 'language_test': 'Portuguese', 'rouge1': 0.13040813543028057, 'rouge2': 0.04359076806205733, 'rougeL': 0.11170739371161603, 'bleu': 0.029665899830704855}, {'model': 'output/aya_dataset_400000_clustered_c20s2_i10_b16a1_l512_r8a16_20240923122624/cluster_1_checkpoint-100', 'language_test': 'Portuguese', 'rouge1': 0.1836606277641234, 'rouge2': 0.08307572494045774, 'rougeL': 0.1655810015676047, 'bleu': 0.03999388872150826}]\n"
     ]
    },
    {
     "name": "stderr",
     "output_type": "stream",
     "text": [
      "Some weights of LlamaForCausalLM were not initialized from the model checkpoint at TinyLlama/TinyLlama_v1.1 and are newly initialized: ['model.layers.8.self_attn.rotary_emb.inv_freq', 'model.layers.19.self_attn.rotary_emb.inv_freq', 'model.layers.2.self_attn.rotary_emb.inv_freq', 'model.layers.20.self_attn.rotary_emb.inv_freq', 'model.layers.18.self_attn.rotary_emb.inv_freq', 'model.layers.15.self_attn.rotary_emb.inv_freq', 'model.layers.1.self_attn.rotary_emb.inv_freq', 'model.layers.9.self_attn.rotary_emb.inv_freq', 'model.layers.14.self_attn.rotary_emb.inv_freq', 'model.layers.5.self_attn.rotary_emb.inv_freq', 'model.layers.16.self_attn.rotary_emb.inv_freq', 'model.layers.13.self_attn.rotary_emb.inv_freq', 'model.layers.0.self_attn.rotary_emb.inv_freq', 'model.layers.7.self_attn.rotary_emb.inv_freq', 'model.layers.10.self_attn.rotary_emb.inv_freq', 'model.layers.21.self_attn.rotary_emb.inv_freq', 'model.layers.4.self_attn.rotary_emb.inv_freq', 'model.layers.6.self_attn.rotary_emb.inv_freq', 'model.layers.3.self_attn.rotary_emb.inv_freq', 'model.layers.17.self_attn.rotary_emb.inv_freq', 'model.layers.12.self_attn.rotary_emb.inv_freq', 'model.layers.11.self_attn.rotary_emb.inv_freq']\n",
      "You should probably TRAIN this model on a down-stream task to be able to use it for predictions and inference.\n",
      "WARNING:datasets.builder:Found cached dataset parquet (/home/gabriel.talasso/.cache/huggingface/datasets/CohereForAI___parquet/default-dc0ecc36655ce556/0.0.0/14a00e99c0d15a23649d0db8944380ac81082d4b021f398733dd84f3a6c569a7)\n",
      "WARNING:datasets.arrow_dataset:Loading cached processed dataset at /home/gabriel.talasso/.cache/huggingface/datasets/CohereForAI___parquet/default-dc0ecc36655ce556/0.0.0/14a00e99c0d15a23649d0db8944380ac81082d4b021f398733dd84f3a6c569a7/cache-a43a64b8b3c754cd.arrow\n",
      "WARNING:datasets.arrow_dataset:Loading cached split indices for dataset at /home/gabriel.talasso/.cache/huggingface/datasets/CohereForAI___parquet/default-dc0ecc36655ce556/0.0.0/14a00e99c0d15a23649d0db8944380ac81082d4b021f398733dd84f3a6c569a7/cache-cca2a273063fd6b6.arrow and /home/gabriel.talasso/.cache/huggingface/datasets/CohereForAI___parquet/default-dc0ecc36655ce556/0.0.0/14a00e99c0d15a23649d0db8944380ac81082d4b021f398733dd84f3a6c569a7/cache-d0cf8b2e0da0987b.arrow\n",
      "WARNING:datasets.arrow_dataset:Loading cached processed dataset at /home/gabriel.talasso/.cache/huggingface/datasets/CohereForAI___parquet/default-dc0ecc36655ce556/0.0.0/14a00e99c0d15a23649d0db8944380ac81082d4b021f398733dd84f3a6c569a7/cache-b83850ff41d3a0e2.arrow\n",
      "  9%|▉         | 9/100 [00:33<03:58,  2.62s/it]Input length of input_ids is 199, but `max_length` is set to 128. This can lead to unexpected behavior. You should consider increasing `max_new_tokens`.\n",
      " 17%|█▋        | 17/100 [00:57<03:46,  2.72s/it]Input length of input_ids is 146, but `max_length` is set to 128. This can lead to unexpected behavior. You should consider increasing `max_new_tokens`.\n",
      " 31%|███       | 31/100 [01:34<04:42,  4.09s/it]Input length of input_ids is 130, but `max_length` is set to 128. This can lead to unexpected behavior. You should consider increasing `max_new_tokens`.\n",
      " 46%|████▌     | 46/100 [01:58<01:17,  1.44s/it]Input length of input_ids is 169, but `max_length` is set to 128. This can lead to unexpected behavior. You should consider increasing `max_new_tokens`.\n",
      " 50%|█████     | 50/100 [02:08<01:57,  2.34s/it]Input length of input_ids is 169, but `max_length` is set to 128. This can lead to unexpected behavior. You should consider increasing `max_new_tokens`.\n",
      " 59%|█████▉    | 59/100 [02:26<02:04,  3.05s/it]Input length of input_ids is 393, but `max_length` is set to 128. This can lead to unexpected behavior. You should consider increasing `max_new_tokens`.\n",
      " 76%|███████▌  | 76/100 [03:16<00:51,  2.13s/it]Input length of input_ids is 142, but `max_length` is set to 128. This can lead to unexpected behavior. You should consider increasing `max_new_tokens`.\n",
      "100%|██████████| 100/100 [04:49<00:00,  2.89s/it]\n"
     ]
    },
    {
     "name": "stdout",
     "output_type": "stream",
     "text": [
      "[{'model': 'output/aya_dataset_400000_clustered_c20s2_i10_b16a1_l512_r8a16_20240923122624/checkpoint-1', 'language_test': 'Portuguese', 'rouge1': 0.15369599492849095, 'rouge2': 0.062300892214794096, 'rougeL': 0.13582667633256051, 'bleu': 0.036847869222622696}, {'model': 'output/aya_dataset_400000_clustered_c20s2_i10_b16a1_l512_r8a16_20240923122624/cluster_0_checkpoint-100', 'language_test': 'Portuguese', 'rouge1': 0.13040813543028057, 'rouge2': 0.04359076806205733, 'rougeL': 0.11170739371161603, 'bleu': 0.029665899830704855}, {'model': 'output/aya_dataset_400000_clustered_c20s2_i10_b16a1_l512_r8a16_20240923122624/cluster_1_checkpoint-100', 'language_test': 'Portuguese', 'rouge1': 0.1836606277641234, 'rouge2': 0.08307572494045774, 'rougeL': 0.1655810015676047, 'bleu': 0.03999388872150826}, {'model': 'output/aya_dataset_400000_clustered_c20s2_i10_b16a1_l512_r8a16_20240923122624/cluster_2_checkpoint-100', 'language_test': 'Portuguese', 'rouge1': 0.1747694314249279, 'rouge2': 0.06159129154780235, 'rougeL': 0.15560025877691858, 'bleu': 0.03963929644089082}]\n"
     ]
    },
    {
     "name": "stderr",
     "output_type": "stream",
     "text": [
      "Some weights of LlamaForCausalLM were not initialized from the model checkpoint at TinyLlama/TinyLlama_v1.1 and are newly initialized: ['model.layers.8.self_attn.rotary_emb.inv_freq', 'model.layers.19.self_attn.rotary_emb.inv_freq', 'model.layers.2.self_attn.rotary_emb.inv_freq', 'model.layers.20.self_attn.rotary_emb.inv_freq', 'model.layers.18.self_attn.rotary_emb.inv_freq', 'model.layers.15.self_attn.rotary_emb.inv_freq', 'model.layers.1.self_attn.rotary_emb.inv_freq', 'model.layers.9.self_attn.rotary_emb.inv_freq', 'model.layers.14.self_attn.rotary_emb.inv_freq', 'model.layers.5.self_attn.rotary_emb.inv_freq', 'model.layers.16.self_attn.rotary_emb.inv_freq', 'model.layers.13.self_attn.rotary_emb.inv_freq', 'model.layers.0.self_attn.rotary_emb.inv_freq', 'model.layers.7.self_attn.rotary_emb.inv_freq', 'model.layers.10.self_attn.rotary_emb.inv_freq', 'model.layers.21.self_attn.rotary_emb.inv_freq', 'model.layers.4.self_attn.rotary_emb.inv_freq', 'model.layers.6.self_attn.rotary_emb.inv_freq', 'model.layers.3.self_attn.rotary_emb.inv_freq', 'model.layers.17.self_attn.rotary_emb.inv_freq', 'model.layers.12.self_attn.rotary_emb.inv_freq', 'model.layers.11.self_attn.rotary_emb.inv_freq']\n",
      "You should probably TRAIN this model on a down-stream task to be able to use it for predictions and inference.\n",
      "WARNING:datasets.builder:Found cached dataset parquet (/home/gabriel.talasso/.cache/huggingface/datasets/CohereForAI___parquet/default-dc0ecc36655ce556/0.0.0/14a00e99c0d15a23649d0db8944380ac81082d4b021f398733dd84f3a6c569a7)\n",
      "WARNING:datasets.arrow_dataset:Loading cached processed dataset at /home/gabriel.talasso/.cache/huggingface/datasets/CohereForAI___parquet/default-dc0ecc36655ce556/0.0.0/14a00e99c0d15a23649d0db8944380ac81082d4b021f398733dd84f3a6c569a7/cache-a43a64b8b3c754cd.arrow\n",
      "WARNING:datasets.arrow_dataset:Loading cached split indices for dataset at /home/gabriel.talasso/.cache/huggingface/datasets/CohereForAI___parquet/default-dc0ecc36655ce556/0.0.0/14a00e99c0d15a23649d0db8944380ac81082d4b021f398733dd84f3a6c569a7/cache-cca2a273063fd6b6.arrow and /home/gabriel.talasso/.cache/huggingface/datasets/CohereForAI___parquet/default-dc0ecc36655ce556/0.0.0/14a00e99c0d15a23649d0db8944380ac81082d4b021f398733dd84f3a6c569a7/cache-d0cf8b2e0da0987b.arrow\n",
      "WARNING:datasets.arrow_dataset:Loading cached processed dataset at /home/gabriel.talasso/.cache/huggingface/datasets/CohereForAI___parquet/default-dc0ecc36655ce556/0.0.0/14a00e99c0d15a23649d0db8944380ac81082d4b021f398733dd84f3a6c569a7/cache-b83850ff41d3a0e2.arrow\n",
      "  9%|▉         | 9/100 [00:30<04:52,  3.21s/it]Input length of input_ids is 199, but `max_length` is set to 128. This can lead to unexpected behavior. You should consider increasing `max_new_tokens`.\n",
      " 17%|█▋        | 17/100 [00:44<02:29,  1.80s/it]Input length of input_ids is 146, but `max_length` is set to 128. This can lead to unexpected behavior. You should consider increasing `max_new_tokens`.\n",
      " 31%|███       | 31/100 [01:20<02:12,  1.93s/it]Input length of input_ids is 130, but `max_length` is set to 128. This can lead to unexpected behavior. You should consider increasing `max_new_tokens`.\n",
      " 46%|████▌     | 46/100 [01:56<02:04,  2.30s/it]Input length of input_ids is 169, but `max_length` is set to 128. This can lead to unexpected behavior. You should consider increasing `max_new_tokens`.\n",
      " 50%|█████     | 50/100 [01:58<00:55,  1.10s/it]Input length of input_ids is 169, but `max_length` is set to 128. This can lead to unexpected behavior. You should consider increasing `max_new_tokens`.\n",
      " 59%|█████▉    | 59/100 [02:15<02:03,  3.00s/it]Input length of input_ids is 393, but `max_length` is set to 128. This can lead to unexpected behavior. You should consider increasing `max_new_tokens`.\n",
      " 76%|███████▌  | 76/100 [03:08<01:13,  3.08s/it]Input length of input_ids is 142, but `max_length` is set to 128. This can lead to unexpected behavior. You should consider increasing `max_new_tokens`.\n",
      "100%|██████████| 100/100 [04:19<00:00,  2.59s/it]\n"
     ]
    },
    {
     "name": "stdout",
     "output_type": "stream",
     "text": [
      "[{'model': 'output/aya_dataset_400000_clustered_c20s2_i10_b16a1_l512_r8a16_20240923122624/checkpoint-1', 'language_test': 'Portuguese', 'rouge1': 0.15369599492849095, 'rouge2': 0.062300892214794096, 'rougeL': 0.13582667633256051, 'bleu': 0.036847869222622696}, {'model': 'output/aya_dataset_400000_clustered_c20s2_i10_b16a1_l512_r8a16_20240923122624/cluster_0_checkpoint-100', 'language_test': 'Portuguese', 'rouge1': 0.13040813543028057, 'rouge2': 0.04359076806205733, 'rougeL': 0.11170739371161603, 'bleu': 0.029665899830704855}, {'model': 'output/aya_dataset_400000_clustered_c20s2_i10_b16a1_l512_r8a16_20240923122624/cluster_1_checkpoint-100', 'language_test': 'Portuguese', 'rouge1': 0.1836606277641234, 'rouge2': 0.08307572494045774, 'rougeL': 0.1655810015676047, 'bleu': 0.03999388872150826}, {'model': 'output/aya_dataset_400000_clustered_c20s2_i10_b16a1_l512_r8a16_20240923122624/cluster_2_checkpoint-100', 'language_test': 'Portuguese', 'rouge1': 0.1747694314249279, 'rouge2': 0.06159129154780235, 'rougeL': 0.15560025877691858, 'bleu': 0.03963929644089082}, {'model': 'output/aya_dataset_400000_clustered_c20s2_i10_b16a1_l512_r8a16_20240923122624/cluster_3_checkpoint-100', 'language_test': 'Portuguese', 'rouge1': 0.14360013524380968, 'rouge2': 0.044435151899726084, 'rougeL': 0.1265501405049591, 'bleu': 0.02532645423382048}]\n"
     ]
    },
    {
     "name": "stderr",
     "output_type": "stream",
     "text": [
      "Some weights of LlamaForCausalLM were not initialized from the model checkpoint at TinyLlama/TinyLlama_v1.1 and are newly initialized: ['model.layers.8.self_attn.rotary_emb.inv_freq', 'model.layers.19.self_attn.rotary_emb.inv_freq', 'model.layers.2.self_attn.rotary_emb.inv_freq', 'model.layers.20.self_attn.rotary_emb.inv_freq', 'model.layers.18.self_attn.rotary_emb.inv_freq', 'model.layers.15.self_attn.rotary_emb.inv_freq', 'model.layers.1.self_attn.rotary_emb.inv_freq', 'model.layers.9.self_attn.rotary_emb.inv_freq', 'model.layers.14.self_attn.rotary_emb.inv_freq', 'model.layers.5.self_attn.rotary_emb.inv_freq', 'model.layers.16.self_attn.rotary_emb.inv_freq', 'model.layers.13.self_attn.rotary_emb.inv_freq', 'model.layers.0.self_attn.rotary_emb.inv_freq', 'model.layers.7.self_attn.rotary_emb.inv_freq', 'model.layers.10.self_attn.rotary_emb.inv_freq', 'model.layers.21.self_attn.rotary_emb.inv_freq', 'model.layers.4.self_attn.rotary_emb.inv_freq', 'model.layers.6.self_attn.rotary_emb.inv_freq', 'model.layers.3.self_attn.rotary_emb.inv_freq', 'model.layers.17.self_attn.rotary_emb.inv_freq', 'model.layers.12.self_attn.rotary_emb.inv_freq', 'model.layers.11.self_attn.rotary_emb.inv_freq']\n",
      "You should probably TRAIN this model on a down-stream task to be able to use it for predictions and inference.\n",
      "WARNING:datasets.builder:Found cached dataset parquet (/home/gabriel.talasso/.cache/huggingface/datasets/CohereForAI___parquet/default-dc0ecc36655ce556/0.0.0/14a00e99c0d15a23649d0db8944380ac81082d4b021f398733dd84f3a6c569a7)\n",
      "WARNING:datasets.arrow_dataset:Loading cached processed dataset at /home/gabriel.talasso/.cache/huggingface/datasets/CohereForAI___parquet/default-dc0ecc36655ce556/0.0.0/14a00e99c0d15a23649d0db8944380ac81082d4b021f398733dd84f3a6c569a7/cache-a43a64b8b3c754cd.arrow\n",
      "WARNING:datasets.arrow_dataset:Loading cached split indices for dataset at /home/gabriel.talasso/.cache/huggingface/datasets/CohereForAI___parquet/default-dc0ecc36655ce556/0.0.0/14a00e99c0d15a23649d0db8944380ac81082d4b021f398733dd84f3a6c569a7/cache-cca2a273063fd6b6.arrow and /home/gabriel.talasso/.cache/huggingface/datasets/CohereForAI___parquet/default-dc0ecc36655ce556/0.0.0/14a00e99c0d15a23649d0db8944380ac81082d4b021f398733dd84f3a6c569a7/cache-d0cf8b2e0da0987b.arrow\n",
      "WARNING:datasets.arrow_dataset:Loading cached processed dataset at /home/gabriel.talasso/.cache/huggingface/datasets/CohereForAI___parquet/default-dc0ecc36655ce556/0.0.0/14a00e99c0d15a23649d0db8944380ac81082d4b021f398733dd84f3a6c569a7/cache-b83850ff41d3a0e2.arrow\n",
      "  9%|▉         | 9/100 [00:23<02:53,  1.91s/it]Input length of input_ids is 199, but `max_length` is set to 128. This can lead to unexpected behavior. You should consider increasing `max_new_tokens`.\n",
      " 17%|█▋        | 17/100 [00:35<01:32,  1.11s/it]Input length of input_ids is 146, but `max_length` is set to 128. This can lead to unexpected behavior. You should consider increasing `max_new_tokens`.\n",
      " 31%|███       | 31/100 [01:10<03:46,  3.28s/it]Input length of input_ids is 130, but `max_length` is set to 128. This can lead to unexpected behavior. You should consider increasing `max_new_tokens`.\n",
      " 46%|████▌     | 46/100 [01:45<01:49,  2.02s/it]Input length of input_ids is 169, but `max_length` is set to 128. This can lead to unexpected behavior. You should consider increasing `max_new_tokens`.\n",
      " 50%|█████     | 50/100 [01:47<00:45,  1.11it/s]Input length of input_ids is 169, but `max_length` is set to 128. This can lead to unexpected behavior. You should consider increasing `max_new_tokens`.\n",
      " 59%|█████▉    | 59/100 [01:55<00:49,  1.21s/it]Input length of input_ids is 393, but `max_length` is set to 128. This can lead to unexpected behavior. You should consider increasing `max_new_tokens`.\n",
      " 76%|███████▌  | 76/100 [02:43<00:32,  1.34s/it]Input length of input_ids is 142, but `max_length` is set to 128. This can lead to unexpected behavior. You should consider increasing `max_new_tokens`.\n",
      "100%|██████████| 100/100 [03:44<00:00,  2.25s/it]\n"
     ]
    },
    {
     "name": "stdout",
     "output_type": "stream",
     "text": [
      "[{'model': 'output/aya_dataset_400000_clustered_c20s2_i10_b16a1_l512_r8a16_20240923122624/checkpoint-1', 'language_test': 'Portuguese', 'rouge1': 0.15369599492849095, 'rouge2': 0.062300892214794096, 'rougeL': 0.13582667633256051, 'bleu': 0.036847869222622696}, {'model': 'output/aya_dataset_400000_clustered_c20s2_i10_b16a1_l512_r8a16_20240923122624/cluster_0_checkpoint-100', 'language_test': 'Portuguese', 'rouge1': 0.13040813543028057, 'rouge2': 0.04359076806205733, 'rougeL': 0.11170739371161603, 'bleu': 0.029665899830704855}, {'model': 'output/aya_dataset_400000_clustered_c20s2_i10_b16a1_l512_r8a16_20240923122624/cluster_1_checkpoint-100', 'language_test': 'Portuguese', 'rouge1': 0.1836606277641234, 'rouge2': 0.08307572494045774, 'rougeL': 0.1655810015676047, 'bleu': 0.03999388872150826}, {'model': 'output/aya_dataset_400000_clustered_c20s2_i10_b16a1_l512_r8a16_20240923122624/cluster_2_checkpoint-100', 'language_test': 'Portuguese', 'rouge1': 0.1747694314249279, 'rouge2': 0.06159129154780235, 'rougeL': 0.15560025877691858, 'bleu': 0.03963929644089082}, {'model': 'output/aya_dataset_400000_clustered_c20s2_i10_b16a1_l512_r8a16_20240923122624/cluster_3_checkpoint-100', 'language_test': 'Portuguese', 'rouge1': 0.14360013524380968, 'rouge2': 0.044435151899726084, 'rougeL': 0.1265501405049591, 'bleu': 0.02532645423382048}, {'model': 'output/aya_dataset_400000_clustered_c20s2_i10_b16a1_l512_r8a16_20240923122624/cluster_4_checkpoint-100', 'language_test': 'Portuguese', 'rouge1': 0.13190607047512715, 'rouge2': 0.04337683513958279, 'rougeL': 0.1232787477015789, 'bleu': 0.018240637130402325}]\n"
     ]
    }
   ],
   "source": [
    "paths = ['output/aya_dataset_400000_clustered_c20s2_i10_b16a1_l512_r8a16_20240923122624/checkpoint-1',\n",
    "        'output/aya_dataset_400000_clustered_c20s2_i10_b16a1_l512_r8a16_20240923122624/cluster_0_checkpoint-100',\n",
    "        'output/aya_dataset_400000_clustered_c20s2_i10_b16a1_l512_r8a16_20240923122624/cluster_1_checkpoint-100',\n",
    "        'output/aya_dataset_400000_clustered_c20s2_i10_b16a1_l512_r8a16_20240923122624/cluster_2_checkpoint-100',\n",
    "        'output/aya_dataset_400000_clustered_c20s2_i10_b16a1_l512_r8a16_20240923122624/cluster_3_checkpoint-100',\n",
    "        'output/aya_dataset_400000_clustered_c20s2_i10_b16a1_l512_r8a16_20240923122624/cluster_4_checkpoint-100']\n",
    "\n",
    "language  = ['Portuguese']\n",
    "\n",
    "results = []\n",
    "df = pd.DataFrame(columns=['model', 'instruction', 'response'])\n",
    "\n",
    "for path in paths:\n",
    "    model, tokenizer = load_model(path, MODEL_NAME, DEVICE)\n",
    "    test_dataset = load_eval_data(DATASET_NAME, EVALSET_LEN, language)\n",
    "    df = make_completions(model, tokenizer, test_dataset, DEVICE, model_name = path.split('/')[-1], max_length=128)\n",
    "    rouge_result = calcule_rouge(df, test_dataset)\n",
    "    bleu_result = calcule_bleu(df, test_dataset)\n",
    "    results.append({'model': path, 'language_test': language[0],\n",
    "                   'rouge1': rouge_result['rouge1'], \n",
    "                   'rouge2': rouge_result['rouge2'], \n",
    "                   'rougeL': rouge_result['rougeL'],\n",
    "                   'bleu': bleu_result['bleu']})\n",
    "    print(results)\n",
    "\n",
    "results_df = pd.DataFrame(results)\n",
    "results_df.to_csv('results.csv', index=False)"
   ]
  },
  {
   "cell_type": "code",
   "execution_count": 19,
   "metadata": {},
   "outputs": [
    {
     "data": {
      "text/html": [
       "<div>\n",
       "<style scoped>\n",
       "    .dataframe tbody tr th:only-of-type {\n",
       "        vertical-align: middle;\n",
       "    }\n",
       "\n",
       "    .dataframe tbody tr th {\n",
       "        vertical-align: top;\n",
       "    }\n",
       "\n",
       "    .dataframe thead th {\n",
       "        text-align: right;\n",
       "    }\n",
       "</style>\n",
       "<table border=\"1\" class=\"dataframe\">\n",
       "  <thead>\n",
       "    <tr style=\"text-align: right;\">\n",
       "      <th></th>\n",
       "      <th>model</th>\n",
       "      <th>language_test</th>\n",
       "      <th>rouge1</th>\n",
       "      <th>rouge2</th>\n",
       "      <th>rougeL</th>\n",
       "      <th>bleu</th>\n",
       "    </tr>\n",
       "  </thead>\n",
       "  <tbody>\n",
       "    <tr>\n",
       "      <th>0</th>\n",
       "      <td>output/aya_dataset_400000_clustered_c20s2_i10_...</td>\n",
       "      <td>Portuguese</td>\n",
       "      <td>0.153696</td>\n",
       "      <td>0.062301</td>\n",
       "      <td>0.135827</td>\n",
       "      <td>0.036848</td>\n",
       "    </tr>\n",
       "    <tr>\n",
       "      <th>1</th>\n",
       "      <td>output/aya_dataset_400000_clustered_c20s2_i10_...</td>\n",
       "      <td>Portuguese</td>\n",
       "      <td>0.130408</td>\n",
       "      <td>0.043591</td>\n",
       "      <td>0.111707</td>\n",
       "      <td>0.029666</td>\n",
       "    </tr>\n",
       "    <tr>\n",
       "      <th>2</th>\n",
       "      <td>output/aya_dataset_400000_clustered_c20s2_i10_...</td>\n",
       "      <td>Portuguese</td>\n",
       "      <td>0.183661</td>\n",
       "      <td>0.083076</td>\n",
       "      <td>0.165581</td>\n",
       "      <td>0.039994</td>\n",
       "    </tr>\n",
       "    <tr>\n",
       "      <th>3</th>\n",
       "      <td>output/aya_dataset_400000_clustered_c20s2_i10_...</td>\n",
       "      <td>Portuguese</td>\n",
       "      <td>0.174769</td>\n",
       "      <td>0.061591</td>\n",
       "      <td>0.155600</td>\n",
       "      <td>0.039639</td>\n",
       "    </tr>\n",
       "    <tr>\n",
       "      <th>4</th>\n",
       "      <td>output/aya_dataset_400000_clustered_c20s2_i10_...</td>\n",
       "      <td>Portuguese</td>\n",
       "      <td>0.143600</td>\n",
       "      <td>0.044435</td>\n",
       "      <td>0.126550</td>\n",
       "      <td>0.025326</td>\n",
       "    </tr>\n",
       "    <tr>\n",
       "      <th>5</th>\n",
       "      <td>output/aya_dataset_400000_clustered_c20s2_i10_...</td>\n",
       "      <td>Portuguese</td>\n",
       "      <td>0.131906</td>\n",
       "      <td>0.043377</td>\n",
       "      <td>0.123279</td>\n",
       "      <td>0.018241</td>\n",
       "    </tr>\n",
       "  </tbody>\n",
       "</table>\n",
       "</div>"
      ],
      "text/plain": [
       "                                               model language_test    rouge1  \\\n",
       "0  output/aya_dataset_400000_clustered_c20s2_i10_...    Portuguese  0.153696   \n",
       "1  output/aya_dataset_400000_clustered_c20s2_i10_...    Portuguese  0.130408   \n",
       "2  output/aya_dataset_400000_clustered_c20s2_i10_...    Portuguese  0.183661   \n",
       "3  output/aya_dataset_400000_clustered_c20s2_i10_...    Portuguese  0.174769   \n",
       "4  output/aya_dataset_400000_clustered_c20s2_i10_...    Portuguese  0.143600   \n",
       "5  output/aya_dataset_400000_clustered_c20s2_i10_...    Portuguese  0.131906   \n",
       "\n",
       "     rouge2    rougeL      bleu  \n",
       "0  0.062301  0.135827  0.036848  \n",
       "1  0.043591  0.111707  0.029666  \n",
       "2  0.083076  0.165581  0.039994  \n",
       "3  0.061591  0.155600  0.039639  \n",
       "4  0.044435  0.126550  0.025326  \n",
       "5  0.043377  0.123279  0.018241  "
      ]
     },
     "execution_count": 19,
     "metadata": {},
     "output_type": "execute_result"
    }
   ],
   "source": [
    "results_df"
   ]
  },
  {
   "cell_type": "code",
   "execution_count": 64,
   "metadata": {},
   "outputs": [
    {
     "data": {
      "text/plain": [
       "Text(0.5, 1.0, 'Similarity of B LoRA Matrix - Last Layer')"
      ]
     },
     "execution_count": 64,
     "metadata": {},
     "output_type": "execute_result"
    },
    {
     "data": {
      "image/png": "[encoded data removed]",
      "text/plain": [
       "<Figure size 640x480 with 2 Axes>"
      ]
     },
     "metadata": {},
     "output_type": "display_data"
    }
   ],
   "source": [
    "sim = 'output/aya_dataset_400000_clustered_c20s2_i100_b16a1_l512_r8a16_20240913122148/similarity_B_round50.npy'\n",
    "sim = np.load(sim)\n",
    "import seaborn as sns\n",
    "import matplotlib.pyplot as plt\n",
    "\n",
    "\n",
    "sns.heatmap(sim)\n",
    "plt.title('Similarity of B LoRA Matrix - Last Layer')"
   ]
  },
  {
   "cell_type": "code",
   "execution_count": 63,
   "metadata": {},
   "outputs": [
    {
     "data": {
      "text/plain": [
       "Text(0.5, 1.0, 'Similarity of A LoRA Matrix - Last Layer')"
      ]
     },
     "execution_count": 63,
     "metadata": {},
     "output_type": "execute_result"
    },
    {
     "data": {
      "image/png": "[encoded data removed]",
      "text/plain": [
       "<Figure size 640x480 with 2 Axes>"
      ]
     },
     "metadata": {},
     "output_type": "display_data"
    }
   ],
   "source": [
    "sim = 'output/aya_dataset_400000_clustered_c20s2_i100_b16a1_l512_r8a16_20240913122148/similarity_A_round50.npy'\n",
    "sim = np.load(sim)\n",
    "import seaborn as sns\n",
    "import matplotlib.pyplot as plt\n",
    "\n",
    "sns.heatmap(sim)\n",
    "plt.title('Similarity of A LoRA Matrix - Last Layer')"
   ]
  },
  {
   "cell_type": "code",
   "execution_count": null,
   "metadata": {},
   "outputs": [],
   "source": []
  }
 ],
 "metadata": {
  "kernelspec": {
   "display_name": ".venv",
   "language": "python",
   "name": "python3"
  },
  "language_info": {
   "codemirror_mode": {
    "name": "ipython",
    "version": 3
   },
   "file_extension": ".py",
   "mimetype": "text/x-python",
   "name": "python",
   "nbconvert_exporter": "python",
   "pygments_lexer": "ipython3",
   "version": "3.10.12"
  }
 },
 "nbformat": 4,
 "nbformat_minor": 2
}
